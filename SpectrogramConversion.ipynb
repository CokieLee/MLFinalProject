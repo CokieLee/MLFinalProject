{
  "nbformat": 4,
  "nbformat_minor": 0,
  "metadata": {
    "colab": {
      "name": "SpectrogramConversion.ipynb",
      "provenance": [],
      "collapsed_sections": []
    },
    "kernelspec": {
      "name": "python3",
      "display_name": "Python 3"
    },
    "language_info": {
      "name": "python"
    }
  },
  "cells": [
    {
      "cell_type": "code",
      "execution_count": null,
      "metadata": {
        "id": "22jffM4lIzPd"
      },
      "outputs": [],
      "source": [
        "import librosa\n",
        "import numpy as np\n",
        "from scipy import signal\n",
        "import matplotlib.pyplot as plt\n",
        "from scipy.fft import fftshift\n",
        "\n",
        "import os"
      ]
    },
    {
      "cell_type": "code",
      "source": [
        "from google.colab import drive\n",
        "drive.mount('/content/drive')\n",
        "os.chdir(\"drive/My Drive/ML final project/openmic-2018\")"
      ],
      "metadata": {
        "colab": {
          "base_uri": "https://localhost:8080/"
        },
        "id": "segC5mfti2ZP",
        "outputId": "da5c50ec-9fcd-41f1-9fab-2edaf46fbb3a"
      },
      "execution_count": null,
      "outputs": [
        {
          "output_type": "stream",
          "name": "stdout",
          "text": [
            "Drive already mounted at /content/drive; to attempt to forcibly remount, call drive.mount(\"/content/drive\", force_remount=True).\n"
          ]
        }
      ]
    },
    {
      "cell_type": "code",
      "source": [
        "examples = dict()\n",
        "count = 0\n",
        "done = False\n",
        "MAX_COUNT = 10\n",
        "\n",
        "for subdir, dirs, files in os.walk(\"audio\"):\n",
        "  if done == True:\n",
        "    break\n",
        "  for file in files:\n",
        "      filepath = subdir + os.sep + file\n",
        "    \n",
        "      if filepath.endswith(\".ogg\"):\n",
        "        outerNum = subdir.split(\"/\")[1]\n",
        "        fileNoExtension = file.split(\".\")[0]\n",
        "        newFolderPath = \"/content/drive/My Drive/ML final project/spectrograms\" + os.sep + outerNum\n",
        "        data, sampleRate = librosa.load(filepath)\n",
        "        f, t, Sxx = signal.spectrogram(data, fs=sampleRate)\n",
        "\n",
        "        # Convert Sxx unit from dB to Hz\n",
        "        Sxx = 10*np.log10(Sxx)\n",
        "\n",
        "        name = outerNum + \"_\" + fileNoExtension\n",
        "\n",
        "        examples[name] = Sxx\n",
        "        count += 1\n",
        "        if count >= MAX_COUNT:\n",
        "          done = True\n",
        "          break\n",
        "        print(count)\n",
        "\n",
        "        ### to generate and save spectrogram images\n",
        "\n",
        "        # # Colormesh Plot\n",
        "        # plt.pcolormesh(t, f, Sxx, shading='gouraud')\n",
        "        # plt.ylabel('Frequency [Hz]')\n",
        "        # plt.xlabel('Time [sec]')\n",
        "\n",
        "        # if not os.path.isdir(newFolderPath):\n",
        "        #   os.makedirs(newFolderPath)\n",
        "        \n",
        "        # newFilePath = newFolderPath + os.sep + fileNoExtension + \".jpeg\"\n",
        "        # plt.savefig(newFilePath)"
      ],
      "metadata": {
        "id": "Fn8srcBifDZ8",
        "colab": {
          "base_uri": "https://localhost:8080/"
        },
        "outputId": "006b9f43-9d33-46f9-92bf-eb3ba0fa5ce4"
      },
      "execution_count": null,
      "outputs": [
        {
          "output_type": "stream",
          "name": "stdout",
          "text": [
            "1\n",
            "2\n"
          ]
        },
        {
          "output_type": "stream",
          "name": "stderr",
          "text": [
            "/usr/local/lib/python3.7/dist-packages/ipykernel_launcher.py:19: RuntimeWarning: divide by zero encountered in log10\n"
          ]
        },
        {
          "output_type": "stream",
          "name": "stdout",
          "text": [
            "3\n",
            "4\n",
            "5\n",
            "6\n",
            "7\n",
            "8\n",
            "9\n"
          ]
        }
      ]
    },
    {
      "cell_type": "code",
      "source": [
        "examples.keys()\n",
        "a = examples[\"122_122205_130560\"]\n",
        "\n",
        "a.shape\n"
      ],
      "metadata": {
        "colab": {
          "base_uri": "https://localhost:8080/"
        },
        "id": "mPuz97GOe387",
        "outputId": "32059f15-a39f-45d2-b99a-146ad4ef307b"
      },
      "execution_count": null,
      "outputs": [
        {
          "output_type": "execute_result",
          "data": {
            "text/plain": [
              "(129, 984)"
            ]
          },
          "metadata": {},
          "execution_count": 18
        }
      ]
    },
    {
      "cell_type": "code",
      "source": [
        "s = \"t1_t2_t3\"\n",
        "spl = s.split(\"_\")\n",
        "stri = spl[1] + \"_\" + spl[2]\n",
        "stri"
      ],
      "metadata": {
        "id": "fwWqSiH3rkh7"
      },
      "execution_count": null,
      "outputs": []
    }
  ]
}
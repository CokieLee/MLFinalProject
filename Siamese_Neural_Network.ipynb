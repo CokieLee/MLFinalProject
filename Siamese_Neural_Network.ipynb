{
  "nbformat": 4,
  "nbformat_minor": 0,
  "metadata": {
    "colab": {
      "name": "Siamese_Neural_Network.ipynb",
      "provenance": [],
      "collapsed_sections": [],
      "machine_shape": "hm"
    },
    "kernelspec": {
      "name": "python3",
      "display_name": "Python 3"
    },
    "language_info": {
      "name": "python"
    },
    "accelerator": "GPU"
  },
  "cells": [
    {
      "cell_type": "markdown",
      "source": [
        "# Siamese Neural Network"
      ],
      "metadata": {
        "id": "f17uywdNTNax"
      }
    },
    {
      "cell_type": "code",
      "source": [
        "gpu_info = !nvidia-smi\n",
        "gpu_info = '\\n'.join(gpu_info)\n",
        "if gpu_info.find('failed') >= 0:\n",
        "  print('Not connected to a GPU')\n",
        "else:\n",
        "  print(gpu_info)"
      ],
      "metadata": {
        "colab": {
          "base_uri": "https://localhost:8080/"
        },
        "id": "xShGKt-eYNu6",
        "outputId": "c1332e50-0f04-46d0-e05d-670fc06aceef"
      },
      "execution_count": null,
      "outputs": [
        {
          "output_type": "stream",
          "name": "stdout",
          "text": [
            "Tue May 10 00:57:30 2022       \n",
            "+-----------------------------------------------------------------------------+\n",
            "| NVIDIA-SMI 460.32.03    Driver Version: 460.32.03    CUDA Version: 11.2     |\n",
            "|-------------------------------+----------------------+----------------------+\n",
            "| GPU  Name        Persistence-M| Bus-Id        Disp.A | Volatile Uncorr. ECC |\n",
            "| Fan  Temp  Perf  Pwr:Usage/Cap|         Memory-Usage | GPU-Util  Compute M. |\n",
            "|                               |                      |               MIG M. |\n",
            "|===============================+======================+======================|\n",
            "|   0  Tesla P100-PCIE...  Off  | 00000000:00:04.0 Off |                    0 |\n",
            "| N/A   42C    P0    28W / 250W |      0MiB / 16280MiB |      0%      Default |\n",
            "|                               |                      |                  N/A |\n",
            "+-------------------------------+----------------------+----------------------+\n",
            "                                                                               \n",
            "+-----------------------------------------------------------------------------+\n",
            "| Processes:                                                                  |\n",
            "|  GPU   GI   CI        PID   Type   Process name                  GPU Memory |\n",
            "|        ID   ID                                                   Usage      |\n",
            "|=============================================================================|\n",
            "|  No running processes found                                                 |\n",
            "+-----------------------------------------------------------------------------+\n"
          ]
        }
      ]
    },
    {
      "cell_type": "code",
      "source": [
        "from google.colab import drive\n",
        "drive.mount('/content/drive')"
      ],
      "metadata": {
        "id": "4zypHNcYQhNw",
        "colab": {
          "base_uri": "https://localhost:8080/"
        },
        "outputId": "51e0fc91-5770-4f38-dd67-7b5e0cb87397"
      },
      "execution_count": null,
      "outputs": [
        {
          "output_type": "stream",
          "name": "stdout",
          "text": [
            "Mounted at /content/drive\n"
          ]
        }
      ]
    },
    {
      "cell_type": "code",
      "execution_count": null,
      "metadata": {
        "colab": {
          "base_uri": "https://localhost:8080/"
        },
        "id": "RKAB0lYrZ1x6",
        "outputId": "d62d5792-8b65-4e59-b0a9-c0d20830e93b"
      },
      "outputs": [
        {
          "output_type": "stream",
          "name": "stdout",
          "text": [
            "Mounted at /content/drive\n"
          ]
        }
      ],
      "source": [
        "import json\n",
        "import os\n",
        "import numpy as np\n",
        "import pandas as pd\n",
        "import os\n",
        "import matplotlib.pyplot as plt\n",
        "import librosa\n",
        "from scipy import signal\n",
        "from scipy.fft import fftshift\n",
        "from sklearn.metrics import classification_report\n",
        "\n",
        "from google.colab import drive\n",
        "drive.mount('/content/drive', force_remount = True)"
      ]
    },
    {
      "cell_type": "code",
      "source": [
        "os.chdir(\"drive/My Drive/ML final project/openmic-2018\")\n",
        "!ls \"/content/drive/My Drive/ML final project/openmic-2018\""
      ],
      "metadata": {
        "colab": {
          "base_uri": "https://localhost:8080/"
        },
        "id": "yMjn-FrMve_C",
        "outputId": "18c548e6-70e4-4795-b459-742e2e704d14"
      },
      "execution_count": null,
      "outputs": [
        {
          "output_type": "stream",
          "name": "stdout",
          "text": [
            "acknowledgement.md  license-cc-by.txt\t\t\t   openmic-2018.npz\n",
            "audio\t\t    openmic-2018-aggregated-labels.csv\t   partitions\n",
            "checksums\t    openmic-2018-individual-responses.csv  vggish\n",
            "class-map.json\t    openmic-2018-metadata.csv\n"
          ]
        }
      ]
    },
    {
      "cell_type": "code",
      "source": [
        "# Quick note on the terms:\n",
        "# .json: VGGish features as JSON objects, in a directory format like 'vggish/{0:3}/{0}.json'.format(sample_key)\n",
        "# .ogg: 10 second snippets of audio, in a directory format like 'audio/{0:3}/{0}.ogg'.format(sample_key)\n",
        "# .npz: A Python-friendly NPZ file of features and labels, 'openmic-2018.npz'\n",
        "# VGGish: \n",
        "\n",
        "# Now we need to read in .json file for each track and transform them into\n",
        "# spectrograms for latter input into the neural network\n",
        "openmic = np.load('openmic-2018.npz', allow_pickle=True)\n",
        "# Use allow_pickle = True so later the sample_key could be properly loaded"
      ],
      "metadata": {
        "id": "dX2MHCnb7l43"
      },
      "execution_count": null,
      "outputs": []
    },
    {
      "cell_type": "code",
      "source": [
        "meta_data = pd.read_csv('openmic-2018-metadata.csv')"
      ],
      "metadata": {
        "id": "UHEY6s4OnZi8"
      },
      "execution_count": null,
      "outputs": []
    },
    {
      "cell_type": "code",
      "source": [
        "print(type(meta_data))\n",
        "print(meta_data.columns)"
      ],
      "metadata": {
        "colab": {
          "base_uri": "https://localhost:8080/"
        },
        "id": "-u0Rojfro4DY",
        "outputId": "e79ed0fa-efc5-495b-e775-2cdfd3bc23b8"
      },
      "execution_count": null,
      "outputs": [
        {
          "output_type": "stream",
          "name": "stdout",
          "text": [
            "<class 'pandas.core.frame.DataFrame'>\n",
            "Index(['track_id', 'album_id', 'album_title', 'album_url', 'artist_id',\n",
            "       'artist_name', 'artist_url', 'artist_website', 'license_image_file',\n",
            "       'license_image_file_large', 'license_parent_id', 'license_title',\n",
            "       'license_url', 'tags', 'track_bit_rate', 'track_comments',\n",
            "       'track_composer', 'track_copyright_c', 'track_copyright_p',\n",
            "       'track_date_created', 'track_date_recorded', 'track_disc_number',\n",
            "       'track_duration', 'track_explicit', 'track_explicit_notes',\n",
            "       'track_favorites', 'track_file', 'track_genres', 'track_image_file',\n",
            "       'track_information', 'track_instrumental', 'track_interest',\n",
            "       'track_language_code', 'track_listens', 'track_lyricist',\n",
            "       'track_number', 'track_publisher', 'track_title', 'track_url',\n",
            "       'sample_key', 'start_time'],\n",
            "      dtype='object')\n"
          ]
        }
      ]
    },
    {
      "cell_type": "code",
      "source": [
        "print(meta_data['track_genres'])\n",
        "print(type(meta_data['track_genres']))\n",
        "# See one example\n",
        "print(meta_data['track_genres'][22])\n",
        "# We will only select the first genre (genre_id) as the label for the song\n",
        "#print(meta_data['track_instrumental'])"
      ],
      "metadata": {
        "colab": {
          "base_uri": "https://localhost:8080/"
        },
        "id": "UMoqyWJMsdWy",
        "outputId": "9b845dc4-4d11-4c41-981f-e6df909b64ac"
      },
      "execution_count": null,
      "outputs": [
        {
          "output_type": "stream",
          "name": "stdout",
          "text": [
            "0        [{'genre_id': '76', 'genre_title': 'Experiment...\n",
            "1        [{'genre_id': '45', 'genre_title': 'Loud-Rock'...\n",
            "2        [{'genre_id': '17', 'genre_title': 'Folk', 'ge...\n",
            "3        [{'genre_id': '17', 'genre_title': 'Folk', 'ge...\n",
            "4        [{'genre_id': '4', 'genre_title': 'Jazz', 'gen...\n",
            "                               ...                        \n",
            "19995    [{'genre_id': '18', 'genre_title': 'Soundtrack...\n",
            "19996    [{'genre_id': '18', 'genre_title': 'Soundtrack...\n",
            "19997    [{'genre_id': '1', 'genre_title': 'Avant-Garde...\n",
            "19998    [{'genre_id': '1', 'genre_title': 'Avant-Garde...\n",
            "19999    [{'genre_id': '1', 'genre_title': 'Avant-Garde...\n",
            "Name: track_genres, Length: 20000, dtype: object\n",
            "<class 'pandas.core.series.Series'>\n",
            "[{'genre_id': '12', 'genre_title': 'Rock', 'genre_url': 'http://freemusicarchive.org/genre/Rock/'}, {'genre_id': '76', 'genre_title': 'Experimental Pop', 'genre_url': 'http://freemusicarchive.org/genre/Experimental_Pop/'}]\n"
          ]
        }
      ]
    },
    {
      "cell_type": "code",
      "source": [
        "print(type(meta_data['track_genres'].loc[0]))\n",
        "print(type(meta_data['track_genres'].loc[167]))"
      ],
      "metadata": {
        "colab": {
          "base_uri": "https://localhost:8080/"
        },
        "id": "1rrLfHE41yv5",
        "outputId": "d4549fbe-97ec-49d5-bdbb-5ed5cefeb3b9"
      },
      "execution_count": null,
      "outputs": [
        {
          "output_type": "stream",
          "name": "stdout",
          "text": [
            "<class 'str'>\n",
            "<class 'float'>\n"
          ]
        }
      ]
    },
    {
      "cell_type": "code",
      "source": [
        "print(type(meta_data['sample_key']))\n",
        "print(np.shape(meta_data['sample_key']))\n",
        "# See on example\n",
        "print(meta_data['sample_key'][22])\n",
        "print(type(meta_data['sample_key'][22]))"
      ],
      "metadata": {
        "colab": {
          "base_uri": "https://localhost:8080/"
        },
        "id": "U2MCq-nY41Zy",
        "outputId": "244fb57f-e184-40cc-aa21-4907208a4e95"
      },
      "execution_count": null,
      "outputs": [
        {
          "output_type": "stream",
          "name": "stdout",
          "text": [
            "<class 'pandas.core.series.Series'>\n",
            "(20000,)\n",
            "000248_157440\n",
            "<class 'str'>\n"
          ]
        }
      ]
    },
    {
      "cell_type": "code",
      "source": [
        "# We now extract the first index (genre_id) and store them into\n",
        "# a dictironary as the label set connecting to the sample key\n",
        "\n",
        "import math\n",
        "\n",
        "genre_label = {}\n",
        "\n",
        "for i in range(20000):\n",
        "  # in case some track has no corresponding information\n",
        "  if type(meta_data['track_genres'].loc[i]) == type(3.4): # If they are float, suggesting it's nan\n",
        "    genre_label[meta_data['sample_key'][i]] = -1\n",
        "  else:\n",
        "    genres_ser_i = meta_data['track_genres'].loc[i] # Strangely, this is a string\n",
        "    #print(type(genres_ser_i), i)\n",
        "    genres_list_i = genres_ser_i.split() # Convert it into a list\n",
        "    index_i = genres_list_i[1][1:-2] # Cut the index out\n",
        "    genre_label[meta_data['sample_key'][i]] = np.float(index_i)\n",
        "\n",
        "print(len(genre_label))\n"
      ],
      "metadata": {
        "colab": {
          "base_uri": "https://localhost:8080/"
        },
        "id": "pBe2jcwTsgIV",
        "outputId": "5294d0c8-73af-4f3a-ef2c-d12a02d96e02"
      },
      "execution_count": null,
      "outputs": [
        {
          "output_type": "stream",
          "name": "stderr",
          "text": [
            "/usr/local/lib/python3.7/dist-packages/ipykernel_launcher.py:17: DeprecationWarning: `np.float` is a deprecated alias for the builtin `float`. To silence this warning, use `float` by itself. Doing this will not modify any behavior and is safe. If you specifically wanted the numpy scalar type, use `np.float64` here.\n",
            "Deprecated in NumPy 1.20; for more details and guidance: https://numpy.org/devdocs/release/1.20.0-notes.html#deprecations\n"
          ]
        },
        {
          "output_type": "stream",
          "name": "stdout",
          "text": [
            "20000\n"
          ]
        }
      ]
    },
    {
      "cell_type": "code",
      "source": [
        "#print(genre_label)"
      ],
      "metadata": {
        "id": "hp_t6xQN4Ive"
      },
      "execution_count": null,
      "outputs": []
    },
    {
      "cell_type": "markdown",
      "source": [
        "### Step 0. Conversion from ogg to spectrogram"
      ],
      "metadata": {
        "id": "GPXdyhTwkKB0"
      }
    },
    {
      "cell_type": "code",
      "source": [
        "examples = dict()\n",
        "count = 0\n",
        "done = False\n",
        "MAX_COUNT = 500 # Number of data imported/converted\n",
        "\n",
        "\n",
        "for subdir, dirs, files in os.walk(\"audio\"):\n",
        "  if done == True:\n",
        "    break\n",
        "  for file in files:\n",
        "      filepath = subdir + os.sep + file\n",
        "    \n",
        "      if filepath.endswith(\".ogg\"):\n",
        "        outerNum = subdir.split(\"/\")[1]\n",
        "        fileNoExtension = file.split(\".\")[0]\n",
        "        newFolderPath = \"/content/drive/My Drive/ML final project/spectrograms\" + os.sep + outerNum\n",
        "        data, sampleRate = librosa.load(filepath)\n",
        "        f, t, Sxx = signal.spectrogram(data, fs=sampleRate)\n",
        "\n",
        "        # Convert Sxx unit from dB to Hz\n",
        "        Sxx = 10*np.log10(Sxx)\n",
        "\n",
        "        name = outerNum + \"_\" + fileNoExtension\n",
        "\n",
        "        examples[name] = Sxx\n",
        "        count += 1\n",
        "        if count >= MAX_COUNT:\n",
        "          done = True\n",
        "          break\n",
        "        if count % 40 == 1:\n",
        "          print(count)\n",
        "\n",
        "        ### to generate and save spectrogram images\n",
        "\n",
        "        # # Colormesh Plot\n",
        "        # plt.pcolormesh(t, f, Sxx, shading='gouraud')\n",
        "        # plt.ylabel('Frequency [Hz]')\n",
        "        # plt.xlabel('Time [sec]')\n",
        "\n",
        "        # if not os.path.isdir(newFolderPath):\n",
        "        #   os.makedirs(newFolderPath)\n",
        "        \n",
        "        # newFilePath = newFolderPath + os.sep + fileNoExtension + \".jpeg\"\n",
        "        # plt.savefig(newFilePath)"
      ],
      "metadata": {
        "colab": {
          "base_uri": "https://localhost:8080/"
        },
        "id": "l1A0cGS-kgn9",
        "outputId": "53970e2c-158a-4478-bbea-6931cc7dfc08"
      },
      "execution_count": null,
      "outputs": [
        {
          "output_type": "stream",
          "name": "stdout",
          "text": [
            "1\n"
          ]
        },
        {
          "output_type": "stream",
          "name": "stderr",
          "text": [
            "/usr/local/lib/python3.7/dist-packages/ipykernel_launcher.py:21: RuntimeWarning: divide by zero encountered in log10\n"
          ]
        },
        {
          "output_type": "stream",
          "name": "stdout",
          "text": [
            "41\n",
            "81\n",
            "121\n",
            "161\n",
            "201\n",
            "241\n",
            "281\n",
            "321\n",
            "361\n",
            "401\n",
            "441\n",
            "481\n"
          ]
        }
      ]
    },
    {
      "cell_type": "code",
      "source": [
        "#print(examples.keys())\n",
        "examples_copy = examples.copy()"
      ],
      "metadata": {
        "id": "NidMn3vFk3Eu"
      },
      "execution_count": null,
      "outputs": []
    },
    {
      "cell_type": "code",
      "source": [
        "# Get rid of the \"XXX\" indices at the front \n",
        "for key in examples_copy.keys():\n",
        "  new_key = key.split(\"_\")\n",
        "  #print(new_key)\n",
        "  if len(new_key) < 3:\n",
        "    new_key.append(new_key[-1])\n",
        "    new_key[-1] = \"_\"\n",
        "    new_key = ''.join(new_key)\n",
        "  else:\n",
        "    new_key = new_key[1] + \"_\" + new_key[2]\n",
        "  examples[new_key] = examples[key] # Change the keys for the original variable\n",
        "  del examples[key]"
      ],
      "metadata": {
        "id": "GwcCklkZ5fZi"
      },
      "execution_count": null,
      "outputs": []
    },
    {
      "cell_type": "code",
      "source": [
        "print(examples.keys())"
      ],
      "metadata": {
        "colab": {
          "base_uri": "https://localhost:8080/"
        },
        "id": "gXLo12e98Ylu",
        "outputId": "e47b2874-35ad-4516-8880-adf7560e2247"
      },
      "execution_count": null,
      "outputs": [
        {
          "output_type": "stream",
          "name": "stdout",
          "text": [
            "dict_keys(['122205_130560', '122003_119040', '122026_69120', '122195_7680', '122027_30720', '122202_7680', '122120_30720', '122242_84480', '122151_19200', '122155_99840', '122131_57600', '122065_145920', '122012_168960', '122043_126720', '122040_126720', '122153_138240', '122004_96000', '122118_30720', '122204_222720', '122216_7680', '122504_57600', '122697_226560', '122796_307200', '122658_61440', '122683_46080', '122810_76800', '122657_245760', '122560_15360', '122567_10187520', '122672_549120', '122329_42240', '122684_111360', '122371_414720', '122201_165120', '122661_122880', '122829_887040', '122533_53760', '122610_195840', '122257_42240', '122389_19200', '122465_7680', '122561_19200', '122785_115200', '122584_99840', '122370_257280', '122664_307200', '122423_126720', '122589_218880', '122615_307200', '122625_184320', '122667_99840', '122363_46080', '122665_172800', '122602_414720', '122656_0', '122680_122880', '122518_215040', '122369_180480', '122588_11520', '122621_280320', '122292_153600', '122388_103680', '122681_195840', '122289_326400', '122511_7680', '122784_69120', '122536_268800', '122666_3840', '122450_791040', '122387_42240', '122669_257280', '122267_180480', '122261_526080', '122629_549120', '122619_122880', '122293_119040', '122616_234240', '122682_99840', '122594_449280', '122391_126720', '122609_80640', '122670_142080', '122575_34560', '122490_72960', '122506_153600', '122662_26880', '122719_176640', '122357_230400', '122557_207360', '122698_353280', '122498_42240', '122649_7680', '122285_257280', '122330_7680', '122830_7680', '122614_34560', '122598_61440', '122660_341760', '122372_38400', '122530_111360', '122659_368640', '122720_38400', '122617_184320', '122463_11520', '122479_11520', '122572_15360', '122591_280320', '122367_264960', '122522_0', '122535_172800', '122513_80640', '122608_192000', '122499_34560', '122654_26880', '122928_203520', '122789_99840', '122964_15360', '122855_61440', '122902_184320', '122858_96000', '122962_771840', '122988_69120', '122938_199680', '122851_733440', '122914_238080', '122946_7680', '122850_184320', '122933_153600', '122791_84480', '122957_614400', '122936_61440', '122853_72960', '122977_157440', '122948_53760', '122958_38400', '122960_261120', '122978_203520', '122975_1512960', '140009_49920', '140077_145920', '140102_257280', '140089_153600', '140075_330240', '140115_23040', '140167_115200', '140057_245760', '140054_53760', '140172_88320', '140016_3840', '140218_176640', '140191_26880', '140190_261120', '140277_284160', '140107_99840', '140209_65280', '140111_184320', '140065_253440', '140178_61440', '140067_11520', '140032_80640', '140085_184320', '140164_207360', '140216_49920', '140080_679680', '140076_7680', '140100_614400', '140110_172800', '140106_264960', '140101_180480', '140283_215040', '140230_53760', '140180_0', '140238_30720', '140153_203520', '140104_211200', '140239_72960', '140170_238080', '140109_195840', '140582_207360', '140762_526080', '140672_407040', '140390_19200', '140344_7680', '140395_0', '140499_7680', '140591_3840', '140823_3840', '140417_188160', '140451_268800', '140502_145920', '140640_192000', '140792_307200', '140769_122880', '140766_203520', '140885_134400', '140642_145920', '140381_1493760', '140508_7680', '140752_268800', '140301_483840', '140908_176640', '140883_30720', '140817_360960', '140907_69120', '140887_84480', '140465_11520', '140254_115200', '140840_92160', '140871_149760', '140822_72960', '140680_11520', '140360_353280', '140361_522240', '140657_145920', '140879_0', '140618_218880', '140573_372480', '140405_15360', '140401_72960', '140873_3840', '140841_96000', '140416_61440', '140569_422400', '140517_211200', '140756_280320', '140544_34560', '140623_3840', '140512_257280', '140400_84480', '140788_506880', '140570_610560', '140753_299520', '140771_172800', '140412_34560', '140498_491520', '140809_698880', '140833_53760', '140406_11520', '140878_326400', '140626_195840', '140385_11520', '140346_161280', '140571_276480', '140583_119040', '140659_103680', '140466_53760', '140362_883200', '140821_249600', '140843_107520', '140831_111360', '140764_165120', '140808_249600', '140510_322560', '140550_99840', '140263_19200', '140574_192000', '140553_76800', '140888_3840', '140954_303360', '140903_3840', '140941_7680', '140960_299520', '140402_15360', '140943_80640', '140951_334080', '140949_122880', '140958_119040', '140827_295680', '140946_103680', '140942_61440', '140677_46080', '147004_26880', '147068_53760', '147086_61440', '147089_249600', '147060_295680', '147204_38400', '147194_34560', '147151_107520', '147001_38400', '147066_276480', '147078_1040640', '147132_0', '147097_245760', '147116_7680', '147016_107520', '147071_26880', '147063_46080', '147088_72960', '147124_702720', '147090_57600', '147126_53760', '147067_99840', '147081_142080', '147117_99840', '147062_57600', '147048_261120', '147170_46080', '147123_610560', '147058_683520', '147102_61440', '147040_203520', '147072_165120', '147093_184320', '147025_648960', '147047_153600', '147769_188160', '147273_19200', '147841_3840', '147785_3840', '147509_115200', '147739_291840', '147563_26880', '147551_57600', '147746_30720', '147631_49920', '147207_238080', '147278_61440', '147240_88320', '147900_53760', '147848_26880', '147288_894720', '147222_222720', '147690_49920', '147617_380160', '147697_122880', '147599_407040', '147581_284160', '147252_30720', '147812_53760', '147282_0', '147543_107520', '147307_65280', '147502_184320', '147919_0', '147541_215040', '147576_23040', '147209_145920', '147547_49920', '147259_172800', '147511_165120', '147330_357120', '147886_145920', '147877_138240', '147937_57600', '147192_69120', '147780_0', '147274_222720', '147206_145920', '147560_138240', '147644_11520', '147712_3840', '147275_468480', '147703_65280', '147544_3840', '147569_26880', '147176_30720', '147704_0', '147843_119040', '147360_203520', '147751_622080', '147684_3840', '147348_19200', '147478_257280', '147295_3840', '147554_72960', '147597_115200', '147425_103680', '147580_357120', '147492_153600', '147610_188160', '147750_268800', '147921_433920', '147470_0', '147642_53760', '147173_122880', '147552_211200', '147503_69120', '147277_226560', '147677_284160', '147271_34560', '147440_72960', '147557_42240', '147549_15360', '147276_38400', '147561_207360', '147991_572160', '147949_115200', '147979_26880', '147983_403200', '147992_15360', '147974_11520', '147967_180480', '147980_180480', '147924_226560', '147976_69120', '147082_115200', '147205_72960', '147894_119040', '147947_195840', '114074_65280', '114025_103680', '114139_299520', '114076_76800', '114022_111360', '114079_1889280', '114311_3840', '114366_407040', '114237_203520', '114926_61440', '114544_11520', '114433_11520', '114416_23040', '114367_3840', '114639_437760', '114157_936960', '114879_53760', '114934_149760', '114658_26880', '114241_3840', '114550_165120', '114330_568320', '114688_280320', '114656_192000', '114153_46080', '114305_3840', '114508_138240', '114559_138240', '114884_42240', '114400_38400', '114642_111360', '114555_472320', '114603_76800', '114422_42240', '114386_46080', '114376_65280', '114932_134400', '114971_698880', '114481_53760', '114306_107520', '114444_19200', '114605_15360', '114446_57600', '114842_1274880', '114893_145920', '114866_295680', '114072_149760', '114552_307200', '114554_337920', '114272_115200', '114321_180480', '114882_57600', '114602_311040', '114549_257280', '114779_3840', '114383_272640', '114686_172800', '114142_629760', '114216_92160', '114462_53760', '114375_165120', '114522_134400', '114513_69120', '114704_0', '114242_46080', '114750_7680', '114373_57600', '114403_76800', '114427_42240', '114322_69120', '114643_149760', '114212_72960', '114156_395520', '114236_38400', '114445_11520', '114396_15360', '114769_38400', '114144_368640', '114640_222720', '114907_195840', '114233_92160', '114238_26880', '114397_23040', '114073_115200', '114641_360960', '114331_61440', '114928_122880', '114985_61440', '114970_549120', '114964_23040', '114820_7680', '114026_30720', '114070_88320', '114028_322560', '114032_88320', '114085_122880', '114068_168960', '114137_15360', '114148_353280', '125035_207360'])\n"
          ]
        }
      ]
    },
    {
      "cell_type": "code",
      "source": [
        "# Construct the 3D data list\n",
        "data = []\n",
        "\n",
        "for key in examples.keys():\n",
        "  data.append(examples[key])\n",
        "\n",
        "print(np.shape(data))"
      ],
      "metadata": {
        "colab": {
          "base_uri": "https://localhost:8080/"
        },
        "id": "tTcm24yl8l08",
        "outputId": "db251d59-4b4d-4a5f-8313-d982802a5b02"
      },
      "execution_count": null,
      "outputs": [
        {
          "output_type": "stream",
          "name": "stdout",
          "text": [
            "(500, 129, 984)\n"
          ]
        }
      ]
    },
    {
      "cell_type": "code",
      "source": [
        "# Construct the corresponding labels\n",
        "label = []\n",
        "\n",
        "for key in examples.keys():\n",
        "  label.append(genre_label[key])"
      ],
      "metadata": {
        "id": "DPmbltlb890R"
      },
      "execution_count": null,
      "outputs": []
    },
    {
      "cell_type": "code",
      "source": [
        "print(label)\n",
        "print(len(label))\n",
        "print(type(label))"
      ],
      "metadata": {
        "colab": {
          "base_uri": "https://localhost:8080/"
        },
        "id": "0KneDyKSAe2h",
        "outputId": "8fc68957-b854-4ea9-ebcd-e60429b09241"
      },
      "execution_count": null,
      "outputs": [
        {
          "output_type": "stream",
          "name": "stdout",
          "text": [
            "[1.0, 38.0, 27.0, 14.0, 27.0, 1.0, 12.0, 21.0, 1.0, 1.0, 12.0, 3.0, 19.0, 15.0, 27.0, 1.0, 38.0, 12.0, 1.0, 21.0, 10.0, 15.0, 1.0, 18.0, 12.0, 76.0, 18.0, 15.0, 267.0, 267.0, 5.0, 12.0, 74.0, 1.0, 18.0, 88.0, 10.0, 12.0, 38.0, 32.0, 66.0, 15.0, 1.0, 15.0, -1, 18.0, 15.0, 250.0, 12.0, 18.0, 18.0, 103.0, 18.0, 15.0, 18.0, 12.0, 103.0, -1, 15.0, 1235.0, 15.0, 32.0, 12.0, 15.0, 1235.0, 1.0, 10.0, 18.0, 43.0, 32.0, 18.0, 15.0, 38.0, 18.0, 12.0, 15.0, 12.0, 12.0, 250.0, 32.0, 12.0, 18.0, 17.0, 15.0, 10.0, 18.0, 4.0, 103.0, 15.0, 15.0, 10.0, 18.0, 15.0, 5.0, 88.0, 12.0, 8.0, 18.0, 74.0, 15.0, 18.0, 4.0, 12.0, 66.0, 15.0, 17.0, 250.0, 36.0, 103.0, 10.0, 103.0, 12.0, 10.0, 18.0, 10.0, 1.0, 41.0, 1.0, 5.0, 1.0, 1.0, 18.0, 1.0, 1.0, 36.0, 33.0, 1.0, 17.0, 1.0, 15.0, 17.0, 1.0, 18.0, 1235.0, 15.0, 1.0, 18.0, 18.0, 1.0, 33.0, 25.0, 33.0, 33.0, 15.0, 3.0, 47.0, 3.0, 4.0, 107.0, 15.0, 4.0, 4.0, 15.0, 25.0, 15.0, 25.0, 66.0, 3.0, 66.0, 10.0, 33.0, 4.0, 15.0, 33.0, 33.0, 33.0, 25.0, 25.0, 33.0, 15.0, 15.0, 3.0, 15.0, 31.0, 25.0, 15.0, 4.0, 25.0, 3.0, 15.0, 21.0, 17.0, 15.0, 17.0, 18.0, 25.0, 12.0, 12.0, 7.0, 181.0, 17.0, 33.0, 15.0, 15.0, 17.0, 17.0, 38.0, 42.0, 15.0, 15.0, -1, 17.0, 12.0, 21.0, 17.0, 7.0, 27.0, 4.0, 103.0, 12.0, 38.0, 38.0, 38.0, 76.0, 17.0, 21.0, 38.0, 12.0, 17.0, 103.0, 4.0, 12.0, 38.0, 42.0, 15.0, 27.0, 21.0, 42.0, 17.0, 33.0, 38.0, 15.0, 2.0, 12.0, 18.0, 12.0, 12.0, 12.0, 17.0, 21.0, 15.0, 66.0, 38.0, 103.0, 76.0, 7.0, 38.0, 12.0, 4.0, 12.0, 15.0, 12.0, 42.0, 27.0, 400.0, 15.0, 27.0, 10.0, 15.0, 21.0, 322.0, 38.0, 17.0, 322.0, 322.0, 322.0, 38.0, 12.0, 322.0, 322.0, 26.0, 3.0, 1.0, 6.0, 15.0, 1.0, 5.0, 26.0, 27.0, 3.0, 1.0, 42.0, 21.0, 15.0, 15.0, 15.0, 1.0, 1.0, 15.0, 74.0, 15.0, 18.0, 1.0, 18.0, 15.0, 1.0, 22.0, 38.0, 74.0, 1.0, 15.0, 22.0, 1.0, 15.0, 1.0, 22.0, 12.0, 18.0, 15.0, 1.0, 4.0, 12.0, 15.0, 4.0, 38.0, 15.0, 5.0, 18.0, 1.0, 18.0, 15.0, 107.0, 1.0, 539.0, 15.0, 66.0, 15.0, 15.0, 15.0, 296.0, 26.0, 1.0, 286.0, 15.0, 15.0, 1.0, 15.0, 26.0, 3.0, 15.0, 4.0, 1.0, 21.0, 17.0, 58.0, 26.0, 182.0, 18.0, 5.0, 15.0, 38.0, -1, 18.0, -1, 4.0, 15.0, 1.0, -1, 15.0, 15.0, 38.0, 21.0, 15.0, 1.0, 103.0, 15.0, 15.0, 1.0, 15.0, 15.0, 15.0, 38.0, 15.0, 15.0, 38.0, 1.0, 17.0, 15.0, 18.0, 38.0, 18.0, 18.0, 15.0, 2.0, 18.0, 15.0, 30.0, 66.0, 26.0, 26.0, 30.0, 26.0, 1.0, 26.0, 15.0, 26.0, 18.0, 5.0, 18.0, 66.0, 1235.0, 10.0, 18.0, 1235.0, 240.0, 15.0, 76.0, 2.0, 18.0, 15.0, 15.0, -1, 26.0, 2.0, 4.0, 18.0, 2.0, 15.0, 15.0, 15.0, 1.0, 1235.0, 38.0, 15.0, 18.0, 26.0, 3.0, 15.0, 2.0, 26.0, 4.0, 1.0, 15.0, 10.0, 468.0, 456.0, 15.0, 15.0, 21.0, 26.0, 17.0, 15.0, 17.0, 15.0, -1, -1, 1235.0, 1.0, 1.0, 811.0, 10.0, 2.0, 15.0, 1.0, 27.0, 10.0, 38.0, 18.0, 18.0, 3.0, 107.0, -1, 3.0, 26.0, 15.0, 3.0, 107.0, 26.0, 66.0, 10.0, 4.0, 18.0, 18.0, 18.0, 17.0, 26.0, -1, 18.0, 4.0, 12.0, 18.0, 18.0, 26.0, 1235.0, 4.0, 1235.0, 15.0, 3.0, 15.0, 25.0, 296.0, 10.0, 1235.0, 10.0, 10.0, 240.0, 3.0, 18.0, 18.0, 362.0]\n",
            "500\n",
            "<class 'list'>\n"
          ]
        }
      ]
    },
    {
      "cell_type": "code",
      "source": [
        "print(np.shape(data))\n",
        "print(np.shape(label))\n",
        "print(np.shape(np.unique(label)))"
      ],
      "metadata": {
        "colab": {
          "base_uri": "https://localhost:8080/"
        },
        "id": "e2ZeU1RPaqos",
        "outputId": "e782df2f-a1b9-4d73-8f07-0bfd1aa10ffb"
      },
      "execution_count": null,
      "outputs": [
        {
          "output_type": "stream",
          "name": "stdout",
          "text": [
            "(500, 129, 984)\n",
            "(500,)\n",
            "(53,)\n"
          ]
        }
      ]
    },
    {
      "cell_type": "code",
      "source": [
        "print(np.max(label))\n",
        "print(np.min(label))\n",
        "print(np.unique(label))\n",
        "print(np.max(data))\n",
        "print(np.min(data)) # So we need to fix this issue!\n",
        "print(np.median(data))"
      ],
      "metadata": {
        "colab": {
          "base_uri": "https://localhost:8080/"
        },
        "id": "eonYgQa_jIy5",
        "outputId": "84ba6748-4773-49f1-849f-429be335b9a4"
      },
      "execution_count": null,
      "outputs": [
        {
          "output_type": "stream",
          "name": "stdout",
          "text": [
            "1235.0\n",
            "-1.0\n",
            "[-1.000e+00  1.000e+00  2.000e+00  3.000e+00  4.000e+00  5.000e+00\n",
            "  6.000e+00  7.000e+00  8.000e+00  1.000e+01  1.200e+01  1.400e+01\n",
            "  1.500e+01  1.700e+01  1.800e+01  1.900e+01  2.100e+01  2.200e+01\n",
            "  2.500e+01  2.600e+01  2.700e+01  3.000e+01  3.100e+01  3.200e+01\n",
            "  3.300e+01  3.600e+01  3.800e+01  4.100e+01  4.200e+01  4.300e+01\n",
            "  4.700e+01  5.800e+01  6.600e+01  7.400e+01  7.600e+01  8.800e+01\n",
            "  1.030e+02  1.070e+02  1.810e+02  1.820e+02  2.400e+02  2.500e+02\n",
            "  2.670e+02  2.860e+02  2.960e+02  3.220e+02  3.620e+02  4.000e+02\n",
            "  4.560e+02  4.680e+02  5.390e+02  8.110e+02  1.235e+03]\n",
            "-21.383917\n",
            "-inf\n",
            "-87.40617\n"
          ]
        }
      ]
    },
    {
      "cell_type": "code",
      "source": [
        "print(np.min(data))\n",
        "print(np.min(data) == -np.float('inf'))"
      ],
      "metadata": {
        "colab": {
          "base_uri": "https://localhost:8080/"
        },
        "id": "307NNY3SphiV",
        "outputId": "c63e345f-07ec-48b6-ef87-92e155284f33"
      },
      "execution_count": null,
      "outputs": [
        {
          "output_type": "stream",
          "name": "stdout",
          "text": [
            "-inf\n",
            "True\n"
          ]
        },
        {
          "output_type": "stream",
          "name": "stderr",
          "text": [
            "/usr/local/lib/python3.7/dist-packages/ipykernel_launcher.py:2: DeprecationWarning: `np.float` is a deprecated alias for the builtin `float`. To silence this warning, use `float` by itself. Doing this will not modify any behavior and is safe. If you specifically wanted the numpy scalar type, use `np.float64` here.\n",
            "Deprecated in NumPy 1.20; for more details and guidance: https://numpy.org/devdocs/release/1.20.0-notes.html#deprecations\n",
            "  \n"
          ]
        }
      ]
    },
    {
      "cell_type": "code",
      "source": [
        "data_med = np.median(data)\n",
        "data = np.where(data != np.min(data), data, data_med)"
      ],
      "metadata": {
        "id": "ioZDMi-_oVge"
      },
      "execution_count": null,
      "outputs": []
    },
    {
      "cell_type": "code",
      "source": [
        "print(np.min(data))\n",
        "print(np.shape(data))"
      ],
      "metadata": {
        "colab": {
          "base_uri": "https://localhost:8080/"
        },
        "id": "_1ZSIvnwwDF8",
        "outputId": "82797b40-a3c3-446f-8b1b-e134a28fc749"
      },
      "execution_count": null,
      "outputs": [
        {
          "output_type": "stream",
          "name": "stdout",
          "text": [
            "-448.5347\n",
            "(500, 129, 984)\n"
          ]
        }
      ]
    },
    {
      "cell_type": "markdown",
      "source": [
        "## Classification based on Siamese Neural Network"
      ],
      "metadata": {
        "id": "fzEPqk3yPUYf"
      }
    },
    {
      "cell_type": "markdown",
      "source": [
        "For Siamese neural network, we need the actual audio signals and transform them into spectorgrams as the input for SNN. "
      ],
      "metadata": {
        "id": "JhML8ZN6aI1x"
      }
    },
    {
      "cell_type": "markdown",
      "source": [
        "The following codes for siamese neural network setup are adapted from pyimagesearch.com by Adrian Rosebrock.\n",
        "https://pyimagesearch.com/2020/11/23/building-image-pairs-for-siamese-networks-with-python/;\n",
        "https://pyimagesearch.com/2020/11/30/siamese-networks-with-keras-tensorflow-and-deep-learning/;\n",
        "https://pyimagesearch.com/2020/11/30/siamese-networks-with-keras-tensorflow-and-deep-learning/;\n",
        "\n",
        "\n"
      ],
      "metadata": {
        "id": "cmQOj7hnDv3I"
      }
    },
    {
      "cell_type": "markdown",
      "source": [
        "### Step 1. Image Pairs"
      ],
      "metadata": {
        "id": "mNnozIuhtEqX"
      }
    },
    {
      "cell_type": "code",
      "source": [
        "# 1]. Build Image Pairs\n",
        "\n",
        "def make_pairs(image, labels):\n",
        "  # Initialize with two empty lists\n",
        "  # Notice each data from image appears at least once in the pairs. \n",
        "  imagePair = []\n",
        "  labelPair = []\n",
        "\n",
        "  # Now we find the total number of unique classes\n",
        "  label_unique = np.unique(labels)\n",
        "\n",
        "  # Also need to store the indices for each class at each input\n",
        "  index = {}\n",
        "  for i in label_unique:\n",
        "    index[i] = list(np.where(np.array(labels) == i)[0])\n",
        "  # np.where only works for np.array type data. \n",
        "\n",
        "\n",
        "  # Generate positive and negative pairs\n",
        "  for i in range(len(image)):\n",
        "    image_current = image[i]\n",
        "    label_current = labels[i]\n",
        "    \n",
        "    # Then randomly choose an index from the same class\n",
        "    random_index_pos = np.random.choice(index[int(label_current)])\n",
        "\n",
        "    image_positive = image[random_index_pos]\n",
        "    \n",
        "    # Append image pairs. If positive, assign 1; -1 otherwise.\n",
        "    imagePair.append([image_current, image_positive]) # Positive pair (same class)\n",
        "    labelPair.append(1)\n",
        "\n",
        "    # Also assign negative image pairs\n",
        "    random_index_neg_array = np.where(np.array(labels) != label_current)[0] \n",
        "    # This is an array\n",
        "    random_index_neg = np.random.choice(random_index_neg_array)\n",
        "    image_negative = image[random_index_neg]\n",
        "    \n",
        "    # Append image paris. Now negative.\n",
        "    imagePair.append([image_current, image_negative]) # Negative pair (different class)\n",
        "    labelPair.append(0)\n",
        "\n",
        "  return (np.array(imagePair), np.array(labelPair)) # Returned as np.array for later analysis\n"
      ],
      "metadata": {
        "id": "teg0b-wtcmEk"
      },
      "execution_count": null,
      "outputs": []
    },
    {
      "cell_type": "markdown",
      "source": [
        "### Step 2. Build the Siamese Neural Network"
      ],
      "metadata": {
        "id": "aa3IMJ04tLun"
      }
    },
    {
      "cell_type": "code",
      "source": [
        "# Based on the previous pair-generation process, now we could build the \n",
        "# Siamese neural network (the network would learn both the similarities between\n",
        "# images of the same class and the distinctions among different classes, and updates\n",
        "# the weights accordingly and concurrently for both branches)\n",
        "import tensorflow as tf\n",
        "print(tf.__version__)\n",
        "\n",
        "from tensorflow.keras.models import Model\n",
        "from tensorflow.keras.layers import Lambda\n",
        "from tensorflow.keras.layers import Input\n",
        "from tensorflow.keras.layers import Conv2D\n",
        "from tensorflow.keras.layers import Dense\n",
        "from tensorflow.keras.layers import Dropout\n",
        "from tensorflow.keras.layers import GlobalAveragePooling2D\n",
        "from tensorflow.keras.layers import MaxPooling2D\n",
        "import tensorflow.keras.backend as K\n"
      ],
      "metadata": {
        "id": "Hcvp6nyvHGme",
        "colab": {
          "base_uri": "https://localhost:8080/"
        },
        "outputId": "c529e5aa-0c87-42f3-9993-d022d742df1e"
      },
      "execution_count": null,
      "outputs": [
        {
          "output_type": "stream",
          "name": "stdout",
          "text": [
            "2.8.0\n"
          ]
        }
      ]
    },
    {
      "cell_type": "code",
      "source": [
        "# Write function to define the Siamese neural network and the related objectives\n",
        "\n",
        "\n",
        "def construct_snn(inputSize, embeddingDim=48):\n",
        "  # This is construction for one branch\n",
        "  # inputSize: Spatial dimensions\n",
        "  # embeddingDim: Output dimensionality of the fc layer\n",
        "\n",
        "  input = Input(inputSize)\n",
        "\n",
        "  # Define the CNN layers\n",
        "  # Conv --> ReLu --> Pool --> Dropout --> Conv --> ReLu --> Pool --> Dropout\n",
        "\n",
        "  # Parameters need changing\n",
        "  x = Conv2D(64, (2, 2), padding=\"same\", activation=\"relu\")(input)\n",
        "  x = MaxPooling2D(pool_size=(2, 2))(x)\n",
        "  x = Dropout(0.3)(x)\n",
        "  x = Conv2D(64, (2, 2), padding=\"same\", activation=\"relu\")(x)\n",
        "  x = MaxPooling2D(pool_size=(2,2))(x)\n",
        "  x = Dropout(0.3)(x)\n",
        "\n",
        "  pooledOutput = GlobalAveragePooling2D()(x)\n",
        "  output = Dense(embeddingDim)(pooledOutput)\n",
        "  model = Model(input, output)\n",
        "\n",
        "  return model\n"
      ],
      "metadata": {
        "id": "Z4oWVl4BMoKp"
      },
      "execution_count": null,
      "outputs": []
    },
    {
      "cell_type": "code",
      "source": [
        "def distance(vectors):\n",
        "  # Calculte the distance between output vectors of\n",
        "  # the fully connected layer of the sister neural networks. \n",
        "  \n",
        "  # The reason we use this complicated form is that we want to \n",
        "  # calculate the distance inside the Siamese neural network structure.\n",
        "  # Use a custom Lambda layer to embed Keras/TensorFlow functions inside of a model\n",
        "  (vector1, vector2) = vectors\n",
        "  sumSquared = K.sum(K.square(vector1 - vector2), axis=1, keepdims=True)\n",
        "  \n",
        "  return K.sqrt(K.maximum(sumSquared, K.epsilon()))"
      ],
      "metadata": {
        "id": "GoQs7_SaTTo1"
      },
      "execution_count": null,
      "outputs": []
    },
    {
      "cell_type": "code",
      "source": [
        "def plot_training(H):\n",
        "\t# H: the training history\n",
        "\tplt.style.use(\"ggplot\")\n",
        "\tplt.figure()\n",
        " \n",
        "\tplt.plot(H.history[\"loss\"], label=\"train_loss\")\n",
        "\tplt.plot(H.history[\"val_loss\"], label=\"val_loss\")\n",
        "\tplt.plot(H.history[\"accuracy\"], label=\"train_acc\")\n",
        "\tplt.plot(H.history[\"val_accuracy\"], label=\"val_acc\")\n",
        "\tplt.title(\"Training Loss and Accuracy\")\n",
        "\tplt.xlabel(\"Epoch #\")\n",
        "\tplt.ylabel(\"Loss/Accuracy\")\n",
        "\tplt.legend(loc=\"lower left\")"
      ],
      "metadata": {
        "id": "8u1K9brr-rMg"
      },
      "execution_count": null,
      "outputs": []
    },
    {
      "cell_type": "markdown",
      "source": [
        "### Step 3. Training the neural network"
      ],
      "metadata": {
        "id": "DkvkvPxLFQF1"
      }
    },
    {
      "cell_type": "code",
      "source": [
        "# Now we train our Siamese neural network with the spectrogram data:\n",
        "\n",
        "# These are the actual 2D arrays for the spectrograms\n",
        "from sklearn.model_selection import train_test_split\n",
        "\n",
        "# Convert list into np.array\n",
        "data = np.array(data)\n",
        "label = np.array(label)\n",
        "\n",
        "\n",
        "# Train-test-split\n",
        "image_train, image_test, lab_train, lab_test = train_test_split(data, label, test_size=0.3, random_state=42)\n",
        "\n",
        "\n",
        "\n",
        "# Add a dimension\n",
        "image_train = np.expand_dims(image_train, axis=-1)\n",
        "image_test = np.expand_dims(image_test, axis=-1)\n",
        "\n",
        "\n",
        "# Import the actual shape of the spectrogram\n",
        "# How many input spectrograms we have\n",
        "input_size = MAX_COUNT   #  Defined above when we do conversion from ogg to spectrogram\n",
        "# The shape of each input spectrogram, e.g., (28, 28, 1)\n",
        "image_shape = (129, 984, 1) \n",
        "BATCH_SIZE = 32\n",
        "EPOCHS = 20"
      ],
      "metadata": {
        "id": "gDEJn9wAUKr1"
      },
      "execution_count": null,
      "outputs": []
    },
    {
      "cell_type": "code",
      "source": [
        "# Firstly, use make_pairs() on input spectrograms \n",
        "# (already divided into train and test sets)\n",
        "(pair_train, label_train)   = make_pairs(image_train, lab_train) \n",
        "(pair_test, label_test) = make_pairs(image_test, lab_test) \n",
        "\n",
        "\n",
        "# Construct the cnn layers\n",
        "print(\"[INFO] building siamese network...\")\n",
        "spectrogram1 = Input(shape = image_shape)\n",
        "spectrogram2 = Input(shape = image_shape)\n",
        "featureExtractor = construct_snn(image_shape)\n",
        "feat_spec1 = featureExtractor(spectrogram1)\n",
        "feat_spec2 = featureExtractor(spectrogram2)\n",
        "# Note we only implement construct_snn once since the siamese neural network\n",
        "# has two mirror branches with the exact same weights/parameters that are updated \n",
        "# at the same time. \n",
        "\n",
        "# Construct the end layers and calculate for the sigmoid function\n",
        "# Employ the Lambda layer to compute distance between two output vectors\n",
        "distance_spec = Lambda(distance)([feat_spec1, feat_spec2])\n",
        "\n",
        "# Sigmoid activation layer\n",
        "# The sigmoid activation function is used here. \n",
        "# If the output is closer to 0, then it indicates that the two images are very \n",
        "# unlikely to be from the same class. On the other hand, if the output is closer to\n",
        "# 1, then the images likely come from the same class.\n",
        "output = Dense(1, activation=\"sigmoid\")(distance_spec)\n",
        "\n",
        "# Construct the model\n",
        "model = Model(inputs=[spectrogram1, spectrogram2], outputs=output)\n"
      ],
      "metadata": {
        "id": "H17KQRxIBEAB",
        "colab": {
          "base_uri": "https://localhost:8080/"
        },
        "outputId": "11d89dc7-d68f-4fdd-ec04-57586ed81f6e"
      },
      "execution_count": null,
      "outputs": [
        {
          "output_type": "stream",
          "name": "stdout",
          "text": [
            "[INFO] building siamese network...\n"
          ]
        }
      ]
    },
    {
      "cell_type": "code",
      "source": [
        "# Actual training\n",
        "model.compile(loss=\"binary_crossentropy\", optimizer=\"adam\",\n",
        "\tmetrics=[\"accuracy\"])\n",
        "# Binary cross-entropy is used here because this is two-class \n",
        "# classification. Our goal is to determine whether the images aare from \n",
        "# the same class or not. \n",
        "\n",
        "# More advanced loss functions can be used here as well, including triplet loss and contrastive loss\n",
        "# (if we implement the network as three branches instead of two).\n",
        "\n",
        "# Training the model\n",
        "history = model.fit(\n",
        "\t[pair_train[:, 0], pair_train[:, 1]], label_train[:],\n",
        "\tvalidation_data=([pair_test[:, 0], pair_test[:, 1]], label_test[:]),\n",
        "\tbatch_size=BATCH_SIZE, \n",
        "\tepochs=EPOCHS)"
      ],
      "metadata": {
        "id": "u8IhMfFmC_Zb",
        "colab": {
          "base_uri": "https://localhost:8080/"
        },
        "outputId": "7be66e09-0405-45c2-d458-8acbe244e873"
      },
      "execution_count": null,
      "outputs": [
        {
          "output_type": "stream",
          "name": "stdout",
          "text": [
            "Epoch 1/20\n",
            "22/22 [==============================] - 32s 250ms/step - loss: 0.9375 - accuracy: 0.5000 - val_loss: 0.6836 - val_accuracy: 0.5967\n",
            "Epoch 2/20\n",
            "22/22 [==============================] - 5s 213ms/step - loss: 0.7005 - accuracy: 0.5000 - val_loss: 0.6877 - val_accuracy: 0.6033\n",
            "Epoch 3/20\n",
            "22/22 [==============================] - 5s 213ms/step - loss: 0.6952 - accuracy: 0.5000 - val_loss: 0.6909 - val_accuracy: 0.5733\n",
            "Epoch 4/20\n",
            "22/22 [==============================] - 5s 213ms/step - loss: 0.6922 - accuracy: 0.5014 - val_loss: 0.6900 - val_accuracy: 0.5667\n",
            "Epoch 5/20\n",
            "22/22 [==============================] - 5s 213ms/step - loss: 0.6918 - accuracy: 0.5057 - val_loss: 0.6903 - val_accuracy: 0.5767\n",
            "Epoch 6/20\n",
            "22/22 [==============================] - 5s 212ms/step - loss: 0.6911 - accuracy: 0.5386 - val_loss: 0.6891 - val_accuracy: 0.5733\n",
            "Epoch 7/20\n",
            "22/22 [==============================] - 5s 213ms/step - loss: 0.6903 - accuracy: 0.5514 - val_loss: 0.6883 - val_accuracy: 0.5767\n",
            "Epoch 8/20\n",
            "22/22 [==============================] - 5s 212ms/step - loss: 0.6889 - accuracy: 0.5700 - val_loss: 0.6878 - val_accuracy: 0.5733\n",
            "Epoch 9/20\n",
            "22/22 [==============================] - 5s 213ms/step - loss: 0.6873 - accuracy: 0.5700 - val_loss: 0.6873 - val_accuracy: 0.5700\n",
            "Epoch 10/20\n",
            "22/22 [==============================] - 5s 213ms/step - loss: 0.6870 - accuracy: 0.5671 - val_loss: 0.6879 - val_accuracy: 0.5633\n",
            "Epoch 11/20\n",
            "22/22 [==============================] - 5s 213ms/step - loss: 0.6870 - accuracy: 0.5757 - val_loss: 0.6860 - val_accuracy: 0.5700\n",
            "Epoch 12/20\n",
            "22/22 [==============================] - 5s 213ms/step - loss: 0.6853 - accuracy: 0.5671 - val_loss: 0.6857 - val_accuracy: 0.5633\n",
            "Epoch 13/20\n",
            "22/22 [==============================] - 5s 213ms/step - loss: 0.6853 - accuracy: 0.5800 - val_loss: 0.6858 - val_accuracy: 0.5700\n",
            "Epoch 14/20\n",
            "22/22 [==============================] - 5s 213ms/step - loss: 0.6845 - accuracy: 0.5900 - val_loss: 0.6852 - val_accuracy: 0.5767\n",
            "Epoch 15/20\n",
            "22/22 [==============================] - 5s 213ms/step - loss: 0.6837 - accuracy: 0.5857 - val_loss: 0.6850 - val_accuracy: 0.5767\n",
            "Epoch 16/20\n",
            "22/22 [==============================] - 5s 212ms/step - loss: 0.6841 - accuracy: 0.5871 - val_loss: 0.6866 - val_accuracy: 0.5567\n",
            "Epoch 17/20\n",
            "22/22 [==============================] - 5s 213ms/step - loss: 0.6849 - accuracy: 0.5629 - val_loss: 0.6844 - val_accuracy: 0.5767\n",
            "Epoch 18/20\n",
            "22/22 [==============================] - 5s 212ms/step - loss: 0.6855 - accuracy: 0.5814 - val_loss: 0.6849 - val_accuracy: 0.5800\n",
            "Epoch 19/20\n",
            "22/22 [==============================] - 5s 213ms/step - loss: 0.6837 - accuracy: 0.5814 - val_loss: 0.6840 - val_accuracy: 0.5733\n",
            "Epoch 20/20\n",
            "22/22 [==============================] - 5s 212ms/step - loss: 0.6836 - accuracy: 0.5643 - val_loss: 0.6837 - val_accuracy: 0.5733\n"
          ]
        }
      ]
    },
    {
      "cell_type": "code",
      "source": [
        "# Plot the training results\n",
        "plot_training(history)"
      ],
      "metadata": {
        "id": "Q5YOffX_sd-M",
        "colab": {
          "base_uri": "https://localhost:8080/",
          "height": 299
        },
        "outputId": "5cc420f4-e12b-4194-91bc-65d935cbb562"
      },
      "execution_count": null,
      "outputs": [
        {
          "output_type": "display_data",
          "data": {
            "text/plain": [
              "<Figure size 432x288 with 1 Axes>"
            ],
            "image/png": "[encoded data removed]"
          },
          "metadata": {}
        }
      ]
    },
    {
      "cell_type": "markdown",
      "source": [
        "### Step 4. Prediction"
      ],
      "metadata": {
        "id": "QJPdo3BH4odG"
      }
    },
    {
      "cell_type": "markdown",
      "source": [
        "##### We can then use the trained Siamese neural network, specifically the last layer for making predictions on data outside our train/dev sets.\n",
        "\n",
        "If the sigmoid output is larger than 0.5, then we classify the two input images as coming from the same class."
      ],
      "metadata": {
        "id": "rJLglGo65899"
      }
    },
    {
      "cell_type": "code",
      "source": [
        "from tensorflow.keras.models import load_model\n",
        "from imutils.paths import list_images\n",
        "import random"
      ],
      "metadata": {
        "id": "IfASj6OJ4hi_"
      },
      "execution_count": null,
      "outputs": []
    },
    {
      "cell_type": "code",
      "source": [
        "# Firstly, construct image pairs\n",
        "\n",
        "# User input of the already existed playlist\n",
        "\n",
        "# This is again actual 2D arrays for spectrograms of the testing images/user input\n",
        "# Suppose user has a playlist including 5 songs which \n",
        "# we generate here with some randomness\n",
        "\n",
        "# test is a list of spectrograms for the songs in the playlist\n",
        "dataset_size = len(data)\n",
        "test = []\n",
        "\n",
        "user_list_index = random.sample(range(0, dataset_size), 5)\n",
        "for i in user_list_index:\n",
        "  test.append(data[i])\n",
        "\n",
        "num_test = len(test)\n",
        "\n",
        "#ratio = 0.8 # Randomly select a portion of the image set for making pairs\n",
        "#image_compare = random.sample(data, np.int(ratio*dataset_size))\n",
        "image_compare = data\n",
        "\n",
        "pairs = []\n",
        "# Store image pairs of each of the testing image with the image data we already have\n",
        "for i in range(len(test)):\n",
        "  l = []\n",
        "  for j in range(len(image_compare)):\n",
        "    l.append([test[i], image_compare[j]])\n",
        "  pairs.append(l)\n",
        "  # pairs would be a 4D structure\n",
        "\n",
        "\n",
        "# Variable for storing similarity scores between all image pairs\n",
        "simi_score = []\n",
        "\n",
        "# Implement the snn over all image pairs\n",
        "for i in range(len(pairs)):\n",
        "  # Refresh each time we do the loop for a different testing song/spectrogram/image\n",
        "  score_i = []\n",
        "\n",
        "  for (j, (spec1, spec2)) in enumerate(pairs[i][:]):\n",
        "    # create a copy of both the images for visualization purpose\n",
        "    orig_spec1 = spec1.copy()\n",
        "    orig_spec2 = spec2.copy()\n",
        "\n",
        "    spec1 = np.expand_dims(spec1, axis=-1)\n",
        "    spec2 = np.expand_dims(spec2, axis=-1)\n",
        "\n",
        "    spec1 = np.expand_dims(spec1, axis=0)\n",
        "    spec2 = np.expand_dims(spec2, axis=0)\n",
        "\n",
        "    #print(np.shape(spec1))\n",
        "    #print(np.shape(spec2))\n",
        "    \n",
        "    # use our siamese model to make predictions on the image pair,\n",
        "    # indicating whether or not the images belong to the same class\n",
        "    predict = model.predict([spec1, spec2])\n",
        "    similarity = predict[0][0]\n",
        "    # Update to the score list\n",
        "    score_i.append(similarity)\n",
        "    \n",
        "    # Display spectrogram pairs and show predicted similarity scores\n",
        "    #fig = plt.figure(\"Pair #{}\".format(j + 1), figsize=(4, 2))\n",
        "    #plt.suptitle(\"Similarity: {:.2f}\".format(similarity))\n",
        "    \n",
        "    #ax = fig.add_subplot(1, 2, 1)\n",
        "    #plt.imshow(orig_spec1, cmap=plt.cm.gray)\n",
        "    #plt.axis(\"off\")\n",
        "    \n",
        "    #ax = fig.add_subplot(1, 2, 2)\n",
        "    #plt.imshow(orig_spec2, cmap=plt.cm.gray)\n",
        "    #plt.axis(\"off\")\n",
        "    \n",
        "    #plt.show()\n",
        "  \n",
        "  simi_score.append(score_i)\n"
      ],
      "metadata": {
        "id": "sC7vmYczhpP5"
      },
      "execution_count": null,
      "outputs": []
    },
    {
      "cell_type": "code",
      "source": [
        "print(np.shape(simi_score))"
      ],
      "metadata": {
        "id": "xVuAeuIG67_M"
      },
      "execution_count": null,
      "outputs": []
    },
    {
      "cell_type": "code",
      "source": [
        "from math import inf\n",
        "# Eventually, now we output the recommended indices of the songs in our dataset!\n",
        "\n",
        "# User input of how many songs he/she wants from the system\n",
        "num_rec = input(\"How many songs you would like me to recommend:\\n\")\n",
        "simi_score_orig = simi_score # Make a copy in case we need it\n",
        "\n",
        "# The list for final recommendation\n",
        "rec_list = []\n",
        "\n",
        "i = 0\n",
        "while i < int(num_rec):\n",
        "  # The reason we don't use a for loop is because there might be \n",
        "  # cases where the same song/track in the dataset has been selected \n",
        "  # for recommendation, in which case we have to recommend another song/track\n",
        "\n",
        "  max_simi = np.max(simi_score)\n",
        "  max_index = np.argmax(simi_score) # in the unlikely event that simi_score has\n",
        "  # two exact scores, np.argmax is only going to return the first index\n",
        "  # Also notice that this index is for the flattened out version of simi_score\n",
        "  \n",
        "  q = (max_index + 1) // dataset_size \n",
        "  r = (max_index + 1) % dataset_size\n",
        "  \n",
        "  if r != 0:\n",
        "    dataset_index_row = q\n",
        "    dataset_index_col = r - 1\n",
        "  else:\n",
        "    dataset_index_row = q - 1\n",
        "    dataset_index_col = dataset_size - 1\n",
        "\n",
        "  #print(dataset_index_row)\n",
        "  #print(dataset_index_col)\n",
        "  \n",
        "  simi_score[dataset_index_row][dataset_index_col] = -np.inf\n",
        "  \n",
        "  # In case the same song is selected again, we need to continue the looping/searching\n",
        "  rec_list.append(dataset_index_col)\n",
        "  if len(rec_list) > 1 and (rec_list[-1] == rec_list[-2]) :\n",
        "    del rec_list[-1]\n",
        "  else:\n",
        "    i = i + 1\n",
        "\n",
        "print(\"The recommended songlist is (song indices): \", rec_list)"
      ],
      "metadata": {
        "id": "Rb-6pBh47Zvo"
      },
      "execution_count": null,
      "outputs": []
    },
    {
      "cell_type": "code",
      "source": [
        "# Now following on that, we could have a check of \n",
        "# our final recommendation in spectrogram:\n",
        "\n",
        "# The user playlist index list is user_list_index\n",
        "# The recommended song index list is rec_list\n",
        "from scipy import signal\n",
        "\n",
        "\n",
        "fig, ax = plt.subplots(ncols = 5, nrows = 2, figsize = (10,10))\n",
        "for c in range(10):\n",
        "\n",
        "  if c < 5:\n",
        "    image = data[user_list_index[c]]\n",
        "\n",
        "    f, t, Sxx = signal.spectrogram(image)\n",
        "    # Convert Sxx unit from dB to Hz\n",
        "    Sxx = 10*np.log10(Sxx)\n",
        "    \n",
        "    pcolormesh(t, f, Sxx, shading='gouraud')\n",
        "    np.ravel(ax)[c].set_title('User list Song ' + str(c+1))\n",
        "    np.ravel(ax)[c].set_xlabel('frequency')\n",
        "    np.ravel(ax)[c].set_ylabel('Amplitude')\n",
        "    #plt.colorbar(im, ax=np.ravel(ax)[c], shrink = 0.8)\n",
        "\n",
        "  else:\n",
        "    image = data[rec_list[c-5]]\n",
        "    \n",
        "    im = np.ravel(ax)[c].imshow(image, clim=[0, 255], cmap='jet')\n",
        "    np.ravel(ax)[c].set_title('User list Song ' + str(c-5+1))\n",
        "    np.ravel(ax)[c].set_xlabel('frequency')\n",
        "    np.ravel(ax)[c].set_ylabel('Amplitude')\n",
        "    #plt.colorbar(im, ax=np.ravel(ax)[c], shrink = 0.8)    \n",
        "\n"
      ],
      "metadata": {
        "id": "LSwh8VJ87Y1J",
        "colab": {
          "base_uri": "https://localhost:8080/",
          "height": 819
        },
        "outputId": "1370e154-11b5-48c3-8906-d3d8dda1682b"
      },
      "execution_count": null,
      "outputs": [
        {
          "output_type": "error",
          "ename": "NameError",
          "evalue": "ignored",
          "traceback": [
            "\u001b[0;31m---------------------------------------------------------------------------\u001b[0m",
            "\u001b[0;31mNameError\u001b[0m                                 Traceback (most recent call last)",
            "\u001b[0;32m<ipython-input-292-b9408458d6d8>\u001b[0m in \u001b[0;36m<module>\u001b[0;34m()\u001b[0m\n\u001b[1;32m     17\u001b[0m     \u001b[0mSxx\u001b[0m \u001b[0;34m=\u001b[0m \u001b[0;36m10\u001b[0m\u001b[0;34m*\u001b[0m\u001b[0mnp\u001b[0m\u001b[0;34m.\u001b[0m\u001b[0mlog10\u001b[0m\u001b[0;34m(\u001b[0m\u001b[0mSxx\u001b[0m\u001b[0;34m)\u001b[0m\u001b[0;34m\u001b[0m\u001b[0;34m\u001b[0m\u001b[0m\n\u001b[1;32m     18\u001b[0m \u001b[0;34m\u001b[0m\u001b[0m\n\u001b[0;32m---> 19\u001b[0;31m     \u001b[0mpcolormesh\u001b[0m\u001b[0;34m(\u001b[0m\u001b[0mt\u001b[0m\u001b[0;34m,\u001b[0m \u001b[0mf\u001b[0m\u001b[0;34m,\u001b[0m \u001b[0mSxx\u001b[0m\u001b[0;34m,\u001b[0m \u001b[0mshading\u001b[0m\u001b[0;34m=\u001b[0m\u001b[0;34m'gouraud'\u001b[0m\u001b[0;34m)\u001b[0m\u001b[0;34m\u001b[0m\u001b[0;34m\u001b[0m\u001b[0m\n\u001b[0m\u001b[1;32m     20\u001b[0m     \u001b[0mnp\u001b[0m\u001b[0;34m.\u001b[0m\u001b[0mravel\u001b[0m\u001b[0;34m(\u001b[0m\u001b[0max\u001b[0m\u001b[0;34m)\u001b[0m\u001b[0;34m[\u001b[0m\u001b[0mc\u001b[0m\u001b[0;34m]\u001b[0m\u001b[0;34m.\u001b[0m\u001b[0mset_title\u001b[0m\u001b[0;34m(\u001b[0m\u001b[0;34m'User list Song '\u001b[0m \u001b[0;34m+\u001b[0m \u001b[0mstr\u001b[0m\u001b[0;34m(\u001b[0m\u001b[0mc\u001b[0m\u001b[0;34m+\u001b[0m\u001b[0;36m1\u001b[0m\u001b[0;34m)\u001b[0m\u001b[0;34m)\u001b[0m\u001b[0;34m\u001b[0m\u001b[0;34m\u001b[0m\u001b[0m\n\u001b[1;32m     21\u001b[0m     \u001b[0mnp\u001b[0m\u001b[0;34m.\u001b[0m\u001b[0mravel\u001b[0m\u001b[0;34m(\u001b[0m\u001b[0max\u001b[0m\u001b[0;34m)\u001b[0m\u001b[0;34m[\u001b[0m\u001b[0mc\u001b[0m\u001b[0;34m]\u001b[0m\u001b[0;34m.\u001b[0m\u001b[0mset_xlabel\u001b[0m\u001b[0;34m(\u001b[0m\u001b[0;34m'frequency'\u001b[0m\u001b[0;34m)\u001b[0m\u001b[0;34m\u001b[0m\u001b[0;34m\u001b[0m\u001b[0m\n",
            "\u001b[0;31mNameError\u001b[0m: name 'pcolormesh' is not defined"
          ]
        },
        {
          "output_type": "display_data",
          "data": {
            "text/plain": [
              "<Figure size 720x720 with 10 Axes>"
            ],
            "image/png": "[encoded data removed]"
          },
          "metadata": {}
        }
      ]
    },
    {
      "cell_type": "code",
      "source": [
        "c = 1\n",
        "image = data[user_list_index[c]]\n",
        "\n",
        "def flatten(t):\n",
        "    return [i for sublist in t for item in sublist]\n",
        "\n",
        "f, t, Sxx = signal.spectrogram(np.array(flatten(image)))\n",
        "# Convert Sxx unit from dB to Hz\n",
        "Sxx = 10*np.log10(Sxx)\n",
        "print(np.shape(f))\n",
        "print(np.shape(t))\n",
        "print(np.shape(Sxx))\n",
        "\n",
        "plt.pcolormesh(t, f, Sxx, shading='gouraud')\n",
        "plt.show()\n",
        "\n"
      ],
      "metadata": {
        "colab": {
          "base_uri": "https://localhost:8080/",
          "height": 412
        },
        "id": "_gMpUZvUDhY2",
        "outputId": "b633bc08-abae-4b13-91fb-6f73f47c82f0"
      },
      "execution_count": null,
      "outputs": [
        {
          "output_type": "stream",
          "name": "stderr",
          "text": [
            "/usr/local/lib/python3.7/dist-packages/ipykernel_launcher.py:9: RuntimeWarning: divide by zero encountered in log10\n",
            "  if __name__ == '__main__':\n",
            "<string>:6: UserWarning: Warning: converting a masked element to nan.\n",
            "/usr/local/lib/python3.7/dist-packages/matplotlib/colors.py:993: UserWarning: Warning: converting a masked element to nan.\n",
            "  data = np.asarray(value)\n"
          ]
        },
        {
          "output_type": "stream",
          "name": "stdout",
          "text": [
            "(129,)\n",
            "(566,)\n",
            "(129, 566)\n"
          ]
        },
        {
          "output_type": "display_data",
          "data": {
            "text/plain": [
              "<Figure size 432x288 with 1 Axes>"
            ],
            "image/png": "[encoded data removed]"
          },
          "metadata": {}
        }
      ]
    },
    {
      "cell_type": "code",
      "source": [
        ""
      ],
      "metadata": {
        "id": "pArs6x0IE3_G"
      },
      "execution_count": null,
      "outputs": []
    }
  ]
}
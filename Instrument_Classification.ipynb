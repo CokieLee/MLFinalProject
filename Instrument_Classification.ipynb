{
  "cells": [
    {
      "cell_type": "markdown",
      "metadata": {
        "id": "f17uywdNTNax"
      },
      "source": [
        "# Machine Leanrning Final Project ---- Music AI"
      ]
    },
    {
      "cell_type": "markdown",
      "source": [
        "This is the notebook we used to perform classification on the VGG data"
      ],
      "metadata": {
        "id": "Ag-Y6MMuhpow"
      }
    },
    {
      "cell_type": "code",
      "execution_count": null,
      "metadata": {
        "colab": {
          "base_uri": "https://localhost:8080/"
        },
        "id": "RKAB0lYrZ1x6",
        "outputId": "eb9b4299-054c-47cd-f38a-bce2008a465e"
      },
      "outputs": [
        {
          "output_type": "stream",
          "name": "stdout",
          "text": [
            "Mounted at /content/drive\n"
          ]
        }
      ],
      "source": [
        "import json\n",
        "import os\n",
        "import numpy as np\n",
        "import pandas as pd\n",
        "import os\n",
        "import matplotlib.pyplot as plt\n",
        "\n",
        "from sklearn.metrics import classification_report\n",
        "from google.colab import drive\n",
        "drive.mount('/content/drive', force_remount = True)"
      ]
    },
    {
      "cell_type": "code",
      "execution_count": null,
      "metadata": {
        "colab": {
          "base_uri": "https://localhost:8080/"
        },
        "id": "yMjn-FrMve_C",
        "outputId": "f9cd4771-62fd-4b5f-d011-eb295d8b1c5a"
      },
      "outputs": [
        {
          "output_type": "stream",
          "name": "stdout",
          "text": [
            "acknowledgement.md  license-cc-by.txt\t\t\t   openmic-2018.npz\n",
            "audio\t\t    openmic-2018-aggregated-labels.csv\t   partitions\n",
            "checksums\t    openmic-2018-individual-responses.csv  vggish\n",
            "class-map.json\t    openmic-2018-metadata.csv\n"
          ]
        }
      ],
      "source": [
        "os.chdir(\"drive/My Drive/ML final project/openmic-2018\")\n",
        "!ls \"/content/drive/My Drive/ML final project/openmic-2018\""
      ]
    },
    {
      "cell_type": "code",
      "execution_count": null,
      "metadata": {
        "id": "uO03P62Df5T_",
        "colab": {
          "base_uri": "https://localhost:8080/"
        },
        "outputId": "f826c8c8-9c76-4c3e-87bc-e0a1f704e5e5"
      },
      "outputs": [
        {
          "output_type": "stream",
          "name": "stdout",
          "text": [
            "          sample_key instrument  relevance  num_responses\n",
            "0        000046_3840   clarinet    0.17105              3\n",
            "1        000046_3840      flute    0.00000              3\n",
            "2        000046_3840    trumpet    0.00000              3\n",
            "3      000135_483840  saxophone    0.14705              3\n",
            "4      000135_483840      voice    1.00000              3\n",
            "...              ...        ...        ...            ...\n",
            "41529  155307_211200  saxophone    1.00000              3\n",
            "41530  155310_372480  saxophone    1.00000              3\n",
            "41531  155311_453120  saxophone    1.00000              3\n",
            "41532  155311_453120    trumpet    0.82605              3\n",
            "41533  155311_453120   trombone    1.00000              3\n",
            "\n",
            "[41534 rows x 4 columns]\n",
            "(41534, 4)\n",
            "<class 'pandas.core.frame.DataFrame'>\n"
          ]
        }
      ],
      "source": [
        "labels = pd.read_csv(\"openmic-2018-aggregated-labels.csv\")\n",
        "print(labels)\n",
        "print(np.shape(labels))\n",
        "print(type(labels))"
      ]
    },
    {
      "cell_type": "code",
      "execution_count": null,
      "metadata": {
        "id": "fLBlNOMkZ8Ai",
        "colab": {
          "base_uri": "https://localhost:8080/"
        },
        "outputId": "5e459bcd-930b-43e0-a751-a1fc84cec77c"
      },
      "outputs": [
        {
          "output_type": "stream",
          "name": "stdout",
          "text": [
            "       track_id  album_id                                  album_title  \\\n",
            "0            46       4.0                                        Niris   \n",
            "1           135      58.0                                          mp3   \n",
            "2           139      60.0                        Every Man For Himself   \n",
            "3           141      60.0                        Every Man For Himself   \n",
            "4           144      64.0                                   Amoebiasis   \n",
            "...         ...       ...                                          ...   \n",
            "19995    155294   22935.0                                       Return   \n",
            "19996    155295   22935.0                                       Return   \n",
            "19997    155307   22937.0  Live at WFMU with Scott Williams, 3/27/2017   \n",
            "19998    155310   22937.0  Live at WFMU with Scott Williams, 3/27/2017   \n",
            "19999    155311   22937.0  Live at WFMU with Scott Williams, 3/27/2017   \n",
            "\n",
            "                                               album_url  artist_id  \\\n",
            "0      http://freemusicarchive.org/music/Chris_and_Ni...          4   \n",
            "1      http://freemusicarchive.org/music/Abominog/mp3...         52   \n",
            "2      http://freemusicarchive.org/music/Alec_K_Redfe...         54   \n",
            "3      http://freemusicarchive.org/music/Alec_K_Redfe...         54   \n",
            "4      http://freemusicarchive.org/music/Amoebic_Ense...         56   \n",
            "...                                                  ...        ...   \n",
            "19995  http://freemusicarchive.org/music/Alex_Mason/R...      18876   \n",
            "19996  http://freemusicarchive.org/music/Alex_MasonTh...      24352   \n",
            "19997  http://freemusicarchive.org/music/awott/Live_a...       7820   \n",
            "19998  http://freemusicarchive.org/music/awott/Live_a...       7820   \n",
            "19999  http://freemusicarchive.org/music/awott/Live_a...       7820   \n",
            "\n",
            "                           artist_name  \\\n",
            "0                           Nicky Cook   \n",
            "1                             Abominog   \n",
            "2      Alec K. Redfearn & the Eyesores   \n",
            "3      Alec K. Redfearn & the Eyesores   \n",
            "4                     Amoebic Ensemble   \n",
            "...                                ...   \n",
            "19995                       Alex Mason   \n",
            "19996     Alex Mason/The Minor Emotion   \n",
            "19997                            AWOTT   \n",
            "19998                            AWOTT   \n",
            "19999                            AWOTT   \n",
            "\n",
            "                                              artist_url  \\\n",
            "0      http://freemusicarchive.org/music/Chris_and_Ni...   \n",
            "1            http://freemusicarchive.org/music/Abominog/   \n",
            "2      http://freemusicarchive.org/music/Alec_K_Redfe...   \n",
            "3      http://freemusicarchive.org/music/Alec_K_Redfe...   \n",
            "4      http://freemusicarchive.org/music/Amoebic_Ense...   \n",
            "...                                                  ...   \n",
            "19995      http://freemusicarchive.org/music/Alex_Mason/   \n",
            "19996  http://freemusicarchive.org/music/Alex_MasonTh...   \n",
            "19997           http://freemusicarchive.org/music/awott/   \n",
            "19998           http://freemusicarchive.org/music/awott/   \n",
            "19999           http://freemusicarchive.org/music/awott/   \n",
            "\n",
            "                               artist_website  \\\n",
            "0                                         NaN   \n",
            "1                 http://myspace.com/abominog   \n",
            "2                http://www.aleckredfearn.com   \n",
            "3                http://www.aleckredfearn.com   \n",
            "4      http://www.myspace.com/amoebicensemble   \n",
            "...                                       ...   \n",
            "19995                                     NaN   \n",
            "19996                                     NaN   \n",
            "19997                                     NaN   \n",
            "19998                                     NaN   \n",
            "19999                                     NaN   \n",
            "\n",
            "                                      license_image_file  \\\n",
            "0      http://i.creativecommons.org/l/by-nc-nd/3.0/88...   \n",
            "1      http://i.creativecommons.org/l/by-nc-sa/3.0/us...   \n",
            "2      http://i.creativecommons.org/l/by-nc-nd/3.0/us...   \n",
            "3      http://i.creativecommons.org/l/by-nc-nd/3.0/us...   \n",
            "4      http://i.creativecommons.org/l/by-nc-nd/3.0/us...   \n",
            "...                                                  ...   \n",
            "19995  http://i.creativecommons.org/l/by-nc/4.0/88x31...   \n",
            "19996  http://i.creativecommons.org/l/by-nc/4.0/88x31...   \n",
            "19997  http://i.creativecommons.org/l/by-nc-nd/4.0/88...   \n",
            "19998  http://i.creativecommons.org/l/by-nc-nd/4.0/88...   \n",
            "19999  http://i.creativecommons.org/l/by-nc-nd/4.0/88...   \n",
            "\n",
            "                                license_image_file_large  ...  track_interest  \\\n",
            "0      http://fma-files.s3.amazonaws.com/resources/im...  ...             252   \n",
            "1      http://fma-files.s3.amazonaws.com/resources/im...  ...            2484   \n",
            "2      http://fma-files.s3.amazonaws.com/resources/im...  ...             702   \n",
            "3      http://fma-files.s3.amazonaws.com/resources/im...  ...             839   \n",
            "4      http://fma-files.s3.amazonaws.com/resources/im...  ...            1146   \n",
            "...                                                  ...  ...             ...   \n",
            "19995  http://fma-files.s3.amazonaws.com/resources/im...  ...             820   \n",
            "19996  http://fma-files.s3.amazonaws.com/resources/im...  ...             876   \n",
            "19997  http://fma-files.s3.amazonaws.com/resources/im...  ...             630   \n",
            "19998  http://fma-files.s3.amazonaws.com/resources/im...  ...              94   \n",
            "19999  http://fma-files.s3.amazonaws.com/resources/im...  ...             187   \n",
            "\n",
            "      track_language_code track_listens track_lyricist  track_number  \\\n",
            "0                      en           171            NaN             8   \n",
            "1                      en          1832            NaN             0   \n",
            "2                      en           582            NaN             2   \n",
            "3                      en           725            NaN             4   \n",
            "4                      en          1143            NaN             1   \n",
            "...                   ...           ...            ...           ...   \n",
            "19995                 NaN           680            NaN             6   \n",
            "19996                 NaN           680            NaN             7   \n",
            "19997                 NaN           571            NaN             1   \n",
            "19998                 NaN            84            NaN             4   \n",
            "19999                 NaN           171            NaN             5   \n",
            "\n",
            "       track_publisher     track_title  \\\n",
            "0                  NaN        Yosemite   \n",
            "1                  NaN    Father's Day   \n",
            "2                  NaN        CandyAss   \n",
            "3                  NaN            Ohio   \n",
            "4                  NaN         Wire Up   \n",
            "...                ...             ...   \n",
            "19995              NaN       Cast Away   \n",
            "19996              NaN      Attraction   \n",
            "19997              NaN           Kolka   \n",
            "19998              NaN  Raman Abhishek   \n",
            "19999              NaN  Na Potehu Telu   \n",
            "\n",
            "                                               track_url     sample_key  \\\n",
            "0      http://freemusicarchive.org/music/Chris_and_Ni...    000046_3840   \n",
            "1      http://freemusicarchive.org/music/Abominog/mp3...  000135_483840   \n",
            "2      http://freemusicarchive.org/music/Alec_K_Redfe...  000139_119040   \n",
            "3      http://freemusicarchive.org/music/Alec_K_Redfe...  000141_153600   \n",
            "4      http://freemusicarchive.org/music/Amoebic_Ense...   000144_30720   \n",
            "...                                                  ...            ...   \n",
            "19995  http://freemusicarchive.org/music/Alex_Mason/R...  155294_184320   \n",
            "19996  http://freemusicarchive.org/music/Alex_MasonTh...   155295_76800   \n",
            "19997  http://freemusicarchive.org/music/awott/Live_a...  155307_211200   \n",
            "19998  http://freemusicarchive.org/music/awott/Live_a...  155310_372480   \n",
            "19999  http://freemusicarchive.org/music/awott/Live_a...  155311_453120   \n",
            "\n",
            "      start_time  \n",
            "0           3.84  \n",
            "1         483.84  \n",
            "2         119.04  \n",
            "3         153.60  \n",
            "4          30.72  \n",
            "...          ...  \n",
            "19995     184.32  \n",
            "19996      76.80  \n",
            "19997     211.20  \n",
            "19998     372.48  \n",
            "19999     453.12  \n",
            "\n",
            "[20000 rows x 41 columns]\n",
            "(20000, 41)\n"
          ]
        }
      ],
      "source": [
        "metadata = pd.read_csv(\"openmic-2018-metadata.csv\")\n",
        "print(metadata)\n",
        "print(np.shape(metadata))\n",
        "#print(type(metadata))"
      ]
    },
    {
      "cell_type": "code",
      "execution_count": null,
      "metadata": {
        "id": "8_Dn0uLez7Ol"
      },
      "outputs": [],
      "source": [
        "# responses = pd.read_csv(\"openmic-2018-individual-responses.csv\")\n",
        "# print(responses)\n",
        "# print(np.shape(responses))\n",
        "# print(type(responses))"
      ]
    },
    {
      "cell_type": "markdown",
      "metadata": {
        "id": "sx-wTWvMPCzB"
      },
      "source": [
        "## 1] Clasification based purely on metadata\n",
        "\n",
        "\n"
      ]
    },
    {
      "cell_type": "markdown",
      "metadata": {
        "id": "s9MDQ4MYOTx-"
      },
      "source": [
        "NOTE: The loading of the data (the following block only) was adapted from https://github.com/cosmir/openmic-2018/blob/master/examples/modeling-baseline.ipynb, but the methods following it were implemented ourselves by using sklearn. Using the link given for the following block helped us understand our dataset a lot more."
      ]
    },
    {
      "cell_type": "code",
      "execution_count": null,
      "metadata": {
        "id": "dX2MHCnb7l43"
      },
      "outputs": [],
      "source": [
        "# Quick note on the terms:\n",
        "# .json: VGGish features as JSON objects, in a directory format like 'vggish/{0:3}/{0}.json'.format(sample_key)\n",
        "# .ogg: 10 second snippets of audio, in a directory format like 'audio/{0:3}/{0}.ogg'.format(sample_key)\n",
        "# .npz: A Python-friendly NPZ file of features and labels, 'openmic-2018.npz'\n",
        "# VGGish: \n",
        "\n",
        "\n",
        "# Now we need to read in .json file for each track and transform them into\n",
        "# spectrograms for latter input into the neural network\n",
        "openmic = np.load('openmic-2018.npz', allow_pickle=True)\n",
        "# Use allow_pickle = True so later the sample_key could be properly loaded\n",
        "\n",
        "\n",
        "# X: (20000 by 10 by 128) array of VGGish features\n",
        "#     First index (0..19999) corresponds to the sample key\n",
        "#     Second index (0..9) corresponds to the time within the clip (each time slice is 960 ms long)\n",
        "#     Third index (0..127) corresponds to the VGGish features at each point in the 10sec clip\n",
        "#     Example X[40, 8] is the 128-dimensional feature vector for the 9th time slice in the 41st example\n",
        "\n",
        "X = openmic['X']\n",
        "\n",
        "# Y_true: 20000 20 array of true* label probabilities\n",
        "#      First index corresponds to sample key, as above\n",
        "#      Second index corresponds to the label class (accordion, ..., voice)\n",
        "#      Example: Y[40, 4] indicates the confidence that example #41 contains the 5th instrument\n",
        "\n",
        "Y_true = openmic['Y_true']\n",
        "\n",
        "\n",
        "# Y_mask: 20000 * 20 binary mask values\n",
        "#    First index corresponds to sample key\n",
        "#    Second index corresponds to the label class\n",
        "#    Example: Y[40, 4] indicates whether or not we have observations for the 5th instrument for example #41\n",
        "\n",
        "Y_mask = openmic['Y_mask']\n",
        "\n",
        "# sample_key: 20000 array of sample key strings\n",
        "#     Example: sample_key[40] is the sample key for example #4\n",
        "\n",
        "sample_key = openmic['sample_key']\n",
        "\n",
        "# Import the class map for convenience\n",
        "f = open('class-map.json')\n",
        "class_map = json.load(f)\n",
        "f.close()"
      ]
    },
    {
      "cell_type": "code",
      "execution_count": null,
      "metadata": {
        "colab": {
          "base_uri": "https://localhost:8080/"
        },
        "id": "Dh5no0DdqBGD",
        "outputId": "7d8663e5-4efe-40a0-9a8e-ce45d730e72a"
      },
      "outputs": [
        {
          "output_type": "stream",
          "name": "stdout",
          "text": [
            "Data: \n",
            " ['X', 'Y_true', 'Y_mask', 'sample_key']\n",
            "\n",
            "\n",
            "X shape: \n",
            " (20000, 10, 128)\n",
            "\n",
            "\n",
            "Example of X values (X[0]): \n",
            " [[173  16 162 ...  42  37 255]\n",
            " [175  13 171 ...  55  82 255]\n",
            " [176  14 174 ... 153  59 255]\n",
            " ...\n",
            " [195  39 210 ...   0   0 255]\n",
            " [188  21 176 ...   0  96 255]\n",
            " [193  23 178 ...   0 200 255]]\n",
            "\n",
            "\n",
            "Y shape (labels): \n",
            " (20000, 20)\n",
            "\n",
            "\n",
            "Example of y values (Y_true[0]): \n",
            " [0.5     0.5     0.5     0.5     0.17105 0.5     0.5     0.      0.5\n",
            " 0.5     0.5     0.5     0.5     0.5     0.5     0.5     0.      0.5\n",
            " 0.5     0.5    ]\n",
            "\n",
            "\n",
            "Shape of sample key identifier array: \n",
            " (20000,)\n",
            "\n",
            "\n",
            "First sample key, identifies song because the audio files are named by the sample key: \n",
            " 000046_3840\n",
            "\n",
            "\n",
            "We are doing multiclass classification, and these are the instruments that correspond to each label: \n",
            " {'accordion': 0, 'banjo': 1, 'bass': 2, 'cello': 3, 'clarinet': 4, 'cymbals': 5, 'drums': 6, 'flute': 7, 'guitar': 8, 'mallet_percussion': 9, 'mandolin': 10, 'organ': 11, 'piano': 12, 'saxophone': 13, 'synthesizer': 14, 'trombone': 15, 'trumpet': 16, 'ukulele': 17, 'violin': 18, 'voice': 19}\n"
          ]
        }
      ],
      "source": [
        "### only the code in the block above was adapted from the link given\n",
        "\n",
        "print(\"Data: \\n\", list(openmic.keys()))\n",
        "\n",
        "print(\"\\n\\nX shape: \\n\", np.shape(X))\n",
        "\n",
        "print(\"\\n\\nExample of X values (X[0]): \\n\", X[0])\n",
        "\n",
        "print(\"\\n\\nY shape (labels): \\n\", np.shape(Y_true))\n",
        "\n",
        "print(\"\\n\\nExample of y values (Y_true[0]): \\n\", Y_true[0])\n",
        "\n",
        "print(\"\\n\\nShape of sample key identifier array: \\n\", np.shape(sample_key))\n",
        "\n",
        "print(\"\\n\\nFirst sample key, identifies song because the audio files are named by the sample key: \\n\", sample_key[0])\n",
        "\n",
        "print(\"\\n\\nWe are doing multiclass classification, and these are the instruments that correspond to each label: \\n\", class_map)"
      ]
    },
    {
      "cell_type": "code",
      "execution_count": null,
      "metadata": {
        "colab": {
          "base_uri": "https://localhost:8080/"
        },
        "id": "4JwJxmBnReOe",
        "outputId": "059a92d6-6016-471e-c52b-e50db99696ab"
      },
      "outputs": [
        {
          "output_type": "stream",
          "name": "stdout",
          "text": [
            "(20000, 1280)\n"
          ]
        }
      ],
      "source": [
        "# Currently, X[i] gives the VGGish features for the ith song.\n",
        "# However, it is a 2d array (10 x 128), where the X[i][k] represents the kth second of the 10 second video; each second has 128 VGGish features\n",
        "\n",
        "# Here, we flatten the 2nd and 3rd dimensions into 1 so that we can use all the VGGish values as features for the ith sample/song in sklearn easily:\n",
        "flatDim = X.shape[1] * X.shape[2]\n",
        "numSamples = X.shape[0]\n",
        "X_flat = X.reshape(numSamples, flatDim)\n",
        "\n",
        "print(X_flat.shape)"
      ]
    },
    {
      "cell_type": "code",
      "execution_count": null,
      "metadata": {
        "colab": {
          "base_uri": "https://localhost:8080/"
        },
        "id": "KJQ3Mw1nV8nT",
        "outputId": "b00b60bf-1e48-447e-9119-05bfd24e34e8"
      },
      "outputs": [
        {
          "output_type": "stream",
          "name": "stdout",
          "text": [
            "[0.      0.      0.      0.      0.      0.      0.      0.      0.\n",
            " 0.      0.      0.      0.      0.14705 0.      0.      0.      0.\n",
            " 0.      1.     ]\n",
            "\n",
            "\n",
            "label for song 2:  19\n"
          ]
        }
      ],
      "source": [
        "# We want to do multiclass classification in order to find the most prevalent instrument in a given song (this is because sklearn does not support multilabel classification for many of its\n",
        "# classifiers, so we are doing multiclass classification, which is supported by most classifiers. Because of this, we can compare many classifiers). \n",
        "# So, since we are given an array of probabilities that a given song has a given instrument in it, we can take the max of the label array for each \n",
        "# song and use that instrument as its label. Note that if there is no data on an instrument in a song, the probability is .5 (equally likely either way),\n",
        "# so we use the mask to zero out the probability of non-observed instruments\n",
        "\n",
        "# For example:\n",
        "y1 = Y_true[1] * Y_mask[1]\n",
        "print(y1)\n",
        "\n",
        "# The song has 2 observed instrument values, and the probability of the last one (voice) is the highest. So, when we take the max:\n",
        "y1_label = np.argmax(y1)\n",
        "print(\"\\n\\nlabel for song 2: \", y1_label)\n",
        "# we get 19, which indicates that the 19th \"instrument\" (voice, in this case) is the most likely to be in the song.\n"
      ]
    },
    {
      "cell_type": "code",
      "execution_count": null,
      "metadata": {
        "colab": {
          "base_uri": "https://localhost:8080/"
        },
        "id": "yJfg4VScXhSp",
        "outputId": "e80e91cb-e17d-47b9-a390-c7c7a1dd933d"
      },
      "outputs": [
        {
          "output_type": "stream",
          "name": "stdout",
          "text": [
            "[ 0  1  2  3  4  5  6  7  8  9 10 11 12 13 14 15 16 17 18 19]\n"
          ]
        }
      ],
      "source": [
        "# We will now apply this label conversion to the whole dataset:\n",
        "y = Y_true * Y_mask\n",
        "y = np.argmax(y, axis=1)\n",
        "\n",
        "# y[i] now contains the single label for X[i] that represents the most common/likely/prevalent instrument used in that song\n",
        "\n",
        "print(np.unique(y))\n",
        "# And we see that each instrument is the most prevalent in at least one song in the dataset"
      ]
    },
    {
      "cell_type": "code",
      "execution_count": null,
      "metadata": {
        "colab": {
          "base_uri": "https://localhost:8080/"
        },
        "id": "xsQYDxxvjLtw",
        "outputId": "a1d39a77-7959-4a47-f4f0-71d54338cafa"
      },
      "outputs": [
        {
          "output_type": "stream",
          "name": "stdout",
          "text": [
            "(20000, 1280)\n",
            "(20000,)\n"
          ]
        }
      ],
      "source": [
        "print(X_flat.shape)\n",
        "print(y.shape)\n",
        "# our data is now ready to be used in sklearn"
      ]
    },
    {
      "cell_type": "code",
      "source": [
        "# after our presentation, we tried reducing the dimensionality of our date using PCA, which greatly helped. See the Clustering notebook (also in our codebase) for how we\n",
        "# came up with the number 182\n",
        "\n",
        "from sklearn.decomposition import PCA\n",
        "pca2 = PCA(n_components=182)\n",
        "X_reduced = pca2.fit_transform(X_flat)"
      ],
      "metadata": {
        "id": "8LJ9i9XwsXtz"
      },
      "execution_count": null,
      "outputs": []
    },
    {
      "cell_type": "code",
      "execution_count": null,
      "metadata": {
        "colab": {
          "base_uri": "https://localhost:8080/"
        },
        "id": "7gT1qT4mkKZ3",
        "outputId": "01546b42-5ad9-41f8-c89f-c3130662001e"
      },
      "outputs": [
        {
          "output_type": "stream",
          "name": "stdout",
          "text": [
            "(16000, 182)\n",
            "(4000, 182)\n",
            "(16000,)\n",
            "(4000,)\n"
          ]
        }
      ],
      "source": [
        "# generate train/test data\n",
        "from sklearn.model_selection import train_test_split\n",
        "\n",
        "X_train, X_test, y_train, y_test = train_test_split(X_reduced, y, test_size=0.1)\n",
        "\n",
        "\n",
        "print(X_train.shape)\n",
        "print(X_test.shape)\n",
        "print(y_train.shape)\n",
        "print(y_test.shape)"
      ]
    },
    {
      "cell_type": "code",
      "source": [
        "# normalize the data\n",
        "\n",
        "from sklearn import preprocessing\n",
        "\n",
        "scaler_train = preprocessing.StandardScaler().fit(X_train)\n",
        "X_train_scaled = scaler_train.transform(X_train)\n",
        "\n",
        "scaler_test = preprocessing.StandardScaler().fit(X_test)\n",
        "X_test_scaled = scaler_test.transform(X_test)"
      ],
      "metadata": {
        "id": "IWp89abEuiBL"
      },
      "execution_count": null,
      "outputs": []
    },
    {
      "cell_type": "code",
      "execution_count": null,
      "metadata": {
        "colab": {
          "base_uri": "https://localhost:8080/"
        },
        "id": "12o-1YgdlMsH",
        "outputId": "a65cf536-2049-4102-8b5c-96a731e1a9ce"
      },
      "outputs": [
        {
          "output_type": "stream",
          "name": "stdout",
          "text": [
            "Multinomial logistic regression score:  0.605\n",
            "One-vs-all logistic regression score:  0.60925\n"
          ]
        }
      ],
      "source": [
        "# First model: logistic regression\n",
        "\n",
        "from sklearn.linear_model import LogisticRegression\n",
        "\n",
        "# multinomial multiclass option\n",
        "clfLogisticMultinomial = LogisticRegression(multi_class=\"multinomial\", max_iter=700, solver=\"newton-cg\").fit(X_train_scaled, y_train)\n",
        "\n",
        "# one-vs-all multiclass option\n",
        "clfLogisticOVR = LogisticRegression(multi_class=\"ovr\", max_iter=700, solver=\"newton-cg\").fit(X_train_scaled, y_train)\n",
        "\n",
        "print(\"Multinomial logistic regression score: \", clfLogisticMultinomial.score(X_test_scaled, y_test))\n",
        "print(\"One-vs-all logistic regression score: \", clfLogisticOVR.score(X_test_scaled, y_test))"
      ]
    },
    {
      "cell_type": "code",
      "execution_count": null,
      "metadata": {
        "id": "g_FTEw9iwslH"
      },
      "outputs": [],
      "source": [
        "### logistic regression gives a score of ~.63 with PCA, .5 without"
      ]
    },
    {
      "cell_type": "code",
      "execution_count": null,
      "metadata": {
        "id": "XWdT965bw57L",
        "colab": {
          "base_uri": "https://localhost:8080/"
        },
        "outputId": "ec17943e-3c86-4ba5-d2c6-e26e1740cbcb"
      },
      "outputs": [
        {
          "output_type": "stream",
          "name": "stdout",
          "text": [
            "One-vs-all SVM score:  0.5975\n"
          ]
        },
        {
          "output_type": "stream",
          "name": "stderr",
          "text": [
            "/usr/local/lib/python3.7/dist-packages/sklearn/svm/_base.py:1208: ConvergenceWarning: Liblinear failed to converge, increase the number of iterations.\n",
            "  ConvergenceWarning,\n"
          ]
        }
      ],
      "source": [
        "from sklearn.svm import LinearSVC\n",
        "\n",
        "clfSVM_ovr = LinearSVC(multi_class=\"ovr\").fit(X_train_scaled, y_train)\n",
        "\n",
        "#clfSVM_cs = LinearSVC(multi_class=\"crammer_singer\").fit(X_train_scaled, y_train)\n",
        "\n",
        "\n",
        "print(\"One-vs-all SVM score: \", clfSVM_ovr.score(X_test_scaled, y_test))\n",
        "#print(\"crammer singer SVM score: \", clfSVM_cs.score(X_test_scaled, y_test))"
      ]
    },
    {
      "cell_type": "code",
      "source": [
        "from sklearn.ensemble import RandomForestClassifier\n",
        "\n",
        "clfForest = RandomForestClassifier(n_estimators=800).fit(X_train_scaled, y_train)\n",
        "\n",
        "print(\"Random forest score: \", clfForest.score(X_test_scaled, y_test))"
      ],
      "metadata": {
        "colab": {
          "base_uri": "https://localhost:8080/"
        },
        "id": "V7oUlPW8UAhL",
        "outputId": "12c49c0f-bed9-40b8-aa63-707bcc6b751a"
      },
      "execution_count": null,
      "outputs": [
        {
          "output_type": "stream",
          "name": "stdout",
          "text": [
            "Random forest score:  0.567\n"
          ]
        }
      ]
    },
    {
      "cell_type": "code",
      "source": [
        "### random forests give a score of ~.57"
      ],
      "metadata": {
        "id": "eXDcrbmIZCPn"
      },
      "execution_count": null,
      "outputs": []
    },
    {
      "cell_type": "code",
      "source": [
        "# class distributions\n",
        "tot = len(y)\n",
        "for q in np.unique(y):\n",
        "  print(\"class\", q, \": \", (y == q).sum() / tot * 100, \"%\")"
      ],
      "metadata": {
        "colab": {
          "base_uri": "https://localhost:8080/"
        },
        "id": "KlepGK164uME",
        "outputId": "05772765-f379-4833-da6b-27da9e041983"
      },
      "execution_count": null,
      "outputs": [
        {
          "output_type": "stream",
          "name": "stdout",
          "text": [
            "class 0 :  18.759999999999998 %\n",
            "class 1 :  3.7900000000000005 %\n",
            "class 2 :  3.795 %\n",
            "class 3 :  4.555 %\n",
            "class 4 :  2.22 %\n",
            "class 5 :  5.62 %\n",
            "class 6 :  4.64 %\n",
            "class 7 :  4.125 %\n",
            "class 8 :  5.57 %\n",
            "class 9 :  4.17 %\n",
            "class 10 :  3.345 %\n",
            "class 11 :  4.075 %\n",
            "class 12 :  5.6899999999999995 %\n",
            "class 13 :  5.045 %\n",
            "class 14 :  5.35 %\n",
            "class 15 :  3.17 %\n",
            "class 16 :  3.16 %\n",
            "class 17 :  2.9899999999999998 %\n",
            "class 18 :  5.045 %\n",
            "class 19 :  4.885 %\n"
          ]
        }
      ]
    }
  ],
  "metadata": {
    "colab": {
      "collapsed_sections": [],
      "name": "Instrument Classification",
      "provenance": []
    },
    "kernelspec": {
      "display_name": "Python 3",
      "name": "python3"
    },
    "language_info": {
      "name": "python"
    }
  },
  "nbformat": 4,
  "nbformat_minor": 0
}